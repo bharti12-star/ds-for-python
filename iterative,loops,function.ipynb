{
  "nbformat": 4,
  "nbformat_minor": 0,
  "metadata": {
    "colab": {
      "provenance": []
    },
    "kernelspec": {
      "name": "python3",
      "display_name": "Python 3"
    },
    "language_info": {
      "name": "python"
    }
  },
  "cells": [
    {
      "cell_type": "code",
      "execution_count": 3,
      "metadata": {
        "colab": {
          "base_uri": "https://localhost:8080/"
        },
        "id": "LRhtgsbKPRY4",
        "outputId": "aaef3e1d-d60f-4003-eabb-c92c7dd3e3b2"
      },
      "outputs": [
        {
          "output_type": "stream",
          "name": "stdout",
          "text": [
            "#\n",
            "##\n",
            "###\n",
            "####\n",
            "#####\n",
            "######\n",
            "#######\n"
          ]
        }
      ],
      "source": [
        "# 1. Write a loop that makes seven calls to print(), so we get on the output the following triangle:\n",
        "for i in range(1,8):\n",
        "  print('#' * i)\n"
      ]
    },
    {
      "cell_type": "code",
      "source": [
        "# 2. Use nested loops to create the following:\n",
        "for i in range (8):\n",
        "  print('#'*8)\n"
      ],
      "metadata": {
        "colab": {
          "base_uri": "https://localhost:8080/"
        },
        "id": "MdaZei2JRNH0",
        "outputId": "ec79f8b9-79c9-4d5c-bb66-c88e22c42941"
      },
      "execution_count": 40,
      "outputs": [
        {
          "output_type": "stream",
          "name": "stdout",
          "text": [
            "########\n",
            "########\n",
            "########\n",
            "########\n",
            "########\n",
            "########\n",
            "########\n",
            "########\n"
          ]
        }
      ]
    },
    {
      "cell_type": "code",
      "source": [
        "# 3. Iterate through the list, ['Python', 'Numpy','Pandas','Django', 'Flask'] using a for loop and print out the items.\n",
        "list = ['Python', 'Numpy','Pandas','Django', 'Flask']\n",
        "for itemes in list:\n",
        "  print(itemes)"
      ],
      "metadata": {
        "colab": {
          "base_uri": "https://localhost:8080/"
        },
        "id": "jYxxM-76SGoE",
        "outputId": "0a3fb416-6593-4765-ed5d-45b6fe1e73c6"
      },
      "execution_count": 4,
      "outputs": [
        {
          "output_type": "stream",
          "name": "stdout",
          "text": [
            "Python\n",
            "Numpy\n",
            "Pandas\n",
            "Django\n",
            "Flask\n"
          ]
        }
      ]
    },
    {
      "cell_type": "code",
      "source": [
        "# 4. Use for loop to iterate from 0 to 100 and print the sum of all evens and the sum of all odds.\n",
        "sum_even = 0\n",
        "sum_odd = 0\n",
        "for num in range(101):\n",
        "  if num % 2 == 0:\n",
        "    sum_even += num\n",
        "  else:\n",
        "    sum_odd += num\n",
        "print('sum of evens',sum_even)\n",
        "print('sum of odds',sum_odd)\n"
      ],
      "metadata": {
        "colab": {
          "base_uri": "https://localhost:8080/"
        },
        "id": "roZBzVGjSmLb",
        "outputId": "c6a92e12-8708-46fe-c0ac-bba416b37b06"
      },
      "execution_count": 6,
      "outputs": [
        {
          "output_type": "stream",
          "name": "stdout",
          "text": [
            "sum of evens 2550\n",
            "sum of odds 2500\n"
          ]
        }
      ]
    },
    {
      "cell_type": "code",
      "source": [
        "# 5. Calculate the cube of all numbers from 1 to a given number\n",
        "def cube_of_numbers(n):\n",
        "  cubes=[i ** 3 for i in range(1,n+1)]\n",
        "  return cubes\n",
        "print(cube_of_numbers(7))"
      ],
      "metadata": {
        "colab": {
          "base_uri": "https://localhost:8080/"
        },
        "id": "pUKKNVchUiIi",
        "outputId": "b3ef0573-f738-495d-d3aa-59ee0938c697"
      },
      "execution_count": 7,
      "outputs": [
        {
          "output_type": "stream",
          "name": "stdout",
          "text": [
            "[1, 8, 27, 64, 125, 216, 343]\n"
          ]
        }
      ]
    },
    {
      "cell_type": "code",
      "source": [
        "# 6. Declare a function add_two_numbers. It takes two parameters and it returns a sum.\n",
        "def add_two_numbers(a,b):\n",
        "  return a + b\n",
        "print(add_two_numbers(2,3))"
      ],
      "metadata": {
        "colab": {
          "base_uri": "https://localhost:8080/"
        },
        "id": "vyPNSKn2V1NO",
        "outputId": "bd2adff3-76ee-4b29-a5ae-ea85cea9ec74"
      },
      "execution_count": 8,
      "outputs": [
        {
          "output_type": "stream",
          "name": "stdout",
          "text": [
            "5\n"
          ]
        }
      ]
    },
    {
      "cell_type": "code",
      "source": [
        "# 7. Area of a circle is calculated as follows: area = π x r x r. Write a function that calculates area_of_circle.\n"
      ],
      "metadata": {
        "id": "ZvhyDxDJWRtK"
      },
      "execution_count": null,
      "outputs": []
    },
    {
      "cell_type": "code",
      "source": [
        "# 8. function to sum all arguments\n",
        "def add_all_nums(*args):\n",
        "  if all(isinstance(arg,(int,float)) for arg in args):\n",
        "    return sum(args)\n",
        "  else:\n",
        "    return\"all items must be numbers\"\n",
        "print(add_all_nums(1,2,3,4))"
      ],
      "metadata": {
        "colab": {
          "base_uri": "https://localhost:8080/"
        },
        "id": "kG4lm0EGW3aH",
        "outputId": "eb88de20-8b4a-49e1-d27c-ff4081098f43"
      },
      "execution_count": 9,
      "outputs": [
        {
          "output_type": "stream",
          "name": "stdout",
          "text": [
            "10\n"
          ]
        }
      ]
    },
    {
      "cell_type": "code",
      "source": [
        "# 9. Temperature in °C can be converted to °F using this formula: °F = (°C x 9/5) +32. Write a function which converts °C to °F, convert_celsius_to-fahrenheit.\n",
        "def convert_celsius_to_fahrenheit(celsius):\n",
        "  celsius = 25\n",
        "  return (celsius*9/5)+32\n",
        "print(convert_celsius_to_fahrenheit(25))"
      ],
      "metadata": {
        "colab": {
          "base_uri": "https://localhost:8080/"
        },
        "id": "_oz40UE4aqKs",
        "outputId": "49536f28-e8e0-4d37-9d3c-51b59e7b5f91"
      },
      "execution_count": 10,
      "outputs": [
        {
          "output_type": "stream",
          "name": "stdout",
          "text": [
            "77.0\n"
          ]
        }
      ]
    },
    {
      "cell_type": "code",
      "source": [
        "# 10. write a funvtion called check-session, it takes a month parameter and returns the session:autumn,winter,spring or summer.\n",
        "def check_session(month):\n",
        "    if month in [\"september\",\"october\",\"november\"]:\n",
        "        return \"autumn\"\n",
        "    elif month in [\"december\",\"january\",\"february\"]:\n",
        "        return \"winter\"\n",
        "    elif month in [\"march\",\"april\",\"may\"]:\n",
        "        return \"spring\"\n",
        "\n",
        "    elif month in [\"june\",\"july\",\"august\"]:\n",
        "        return \"summer\"\n",
        "    else:\n",
        "        return \"invalid month\"\n",
        "print(check_session(\"september\"))\n",
        "print(check_session(\"january\"))\n",
        "print(check_session(\"may\"))\n",
        "print(check_session(\"june\"))\n",
        ""
      ],
      "metadata": {
        "colab": {
          "base_uri": "https://localhost:8080/"
        },
        "id": "J_tqA0UVexFq",
        "outputId": "c8c682c1-1294-473b-c880-2d591cd78e69"
      },
      "execution_count": 18,
      "outputs": [
        {
          "output_type": "stream",
          "name": "stdout",
          "text": [
            "autumn\n",
            "winter\n",
            "spring\n",
            "summer\n"
          ]
        }
      ]
    },
    {
      "cell_type": "code",
      "source": [
        "# 11.Write a function called calculate_slope which return the slope of a linear equation\n",
        "def calculate_slope(x1,y1,x2,y2):\n",
        "  return (y2-y1)/(x2-x1)\n",
        "print(calculate_slope(2,3,4,5))"
      ],
      "metadata": {
        "colab": {
          "base_uri": "https://localhost:8080/"
        },
        "id": "u6Ux3wvFlbmN",
        "outputId": "8a26dd05-2eb8-42a4-978d-aa0ff9b25c25"
      },
      "execution_count": 19,
      "outputs": [
        {
          "output_type": "stream",
          "name": "stdout",
          "text": [
            "1.0\n"
          ]
        }
      ]
    },
    {
      "cell_type": "code",
      "source": [
        "# 12.Quadratic equation is calculated as follows: ax2 + bx + c = 0. Write a function\n",
        "#which calculates the solutiion set of a quadratic equation, solve_quadratic_eqn.\n",
        "def solve_quadratic_eqn(a,b,c):\n",
        "  discrinant = b**2 - 4*a*c\n",
        "  if discrinant > 0:\n",
        "    root1 = (-b + discrinant**0.5)/(2*a)\n",
        "    root2 = (-b - discrinant**0.5)/(2*a)\n",
        "    return root1,root2\n",
        "  else:\n",
        "    return \"no real solutions\"\n",
        "print(solve_quadratic_eqn(1,-3,2))"
      ],
      "metadata": {
        "colab": {
          "base_uri": "https://localhost:8080/"
        },
        "id": "rIoDwLA2l45I",
        "outputId": "1a9c9b3f-4204-4b55-aa12-5d9dee688881"
      },
      "execution_count": 20,
      "outputs": [
        {
          "output_type": "stream",
          "name": "stdout",
          "text": [
            "(2.0, 1.0)\n"
          ]
        }
      ]
    },
    {
      "cell_type": "code",
      "source": [
        "# 13.Declare a function named print_list. It takes a list as a parameter and it prints out each element of list.\n",
        "def print_list(list):\n",
        "    for i in list:\n",
        "        print(i)\n",
        "print_list([1,2,3,4,5])"
      ],
      "metadata": {
        "colab": {
          "base_uri": "https://localhost:8080/"
        },
        "id": "1-ZJcfUjnhWX",
        "outputId": "8504a831-c380-4287-e181-2f358f210706"
      },
      "execution_count": 21,
      "outputs": [
        {
          "output_type": "stream",
          "name": "stdout",
          "text": [
            "1\n",
            "2\n",
            "3\n",
            "4\n",
            "5\n"
          ]
        }
      ]
    },
    {
      "cell_type": "code",
      "source": [
        "# 14.Declare a function named reverse_list. It takes an array as a parameter and it returns the reverse of the array (use loops).\n",
        "def reverse_list(list):\n",
        "  return list[::-1]\n",
        "print(reverse_list([1,2,3,4,5]))\n",
        "print(reverse_list(['a','b','c','d']))"
      ],
      "metadata": {
        "colab": {
          "base_uri": "https://localhost:8080/"
        },
        "id": "1eR7BIZ3oX2H",
        "outputId": "190e7c12-2703-4330-956a-f43276620899"
      },
      "execution_count": 22,
      "outputs": [
        {
          "output_type": "stream",
          "name": "stdout",
          "text": [
            "[5, 4, 3, 2, 1]\n",
            "['d', 'c', 'b', 'a']\n"
          ]
        }
      ]
    },
    {
      "cell_type": "code",
      "source": [
        "# 15.Declare a function named evens_and_odds . It takes a positive integer as a parameter and it counts the number of events and odds in the number.\n",
        "def evens_and_odds(n):\n",
        "  even_count = 0\n",
        "  odd_count = 0\n",
        "  for i in range(n):\n",
        "    if i % 2 == 0:\n",
        "      even_count += 1\n",
        "    else:\n",
        "      odd_count += 1\n",
        "  return  even_count, odd_count\n",
        "print(evens_and_odds(45678))"
      ],
      "metadata": {
        "colab": {
          "base_uri": "https://localhost:8080/"
        },
        "id": "1VP0a2bzpk9D",
        "outputId": "659079d1-fb0d-46f7-be79-2b99e6d3f3eb"
      },
      "execution_count": 28,
      "outputs": [
        {
          "output_type": "stream",
          "name": "stdout",
          "text": [
            "(22839, 22839)\n"
          ]
        }
      ]
    },
    {
      "cell_type": "code",
      "source": [
        "#16.Write different functions which take lists. They should calculate_mean,\n",
        "#calculate_median, calculate_mode, calculate_range, calculate_variance,\n",
        "#calculate_std (standard deviation).\n",
        "\n",
        "import statistics\n",
        "def calculate_mean(list):\n",
        "  return statistics.mean(list)\n",
        "def calculate_median(list):\n",
        "  return statistics.median(list)\n",
        "def calculate_mode(list):\n",
        "  return statistics.mode(list)\n",
        "def calculate_range(list):\n",
        "  return max(list)-min(list)\n",
        "def calculate_variance(list):\n",
        "  return statistics.variance(list)\n",
        "def calculate_std(list):\n",
        "  return statistics.stdev(list)\n",
        "data = [1,2,3,4,5,6,7,8]\n",
        "print(calculate_mean(data))\n",
        "print(calculate_median(data))\n",
        "print(calculate_mode(data))\n",
        "print(calculate_range(data))\n",
        "print(calculate_variance(data))\n",
        "print(calculate_std(data))"
      ],
      "metadata": {
        "colab": {
          "base_uri": "https://localhost:8080/"
        },
        "id": "qQqXRKx1q0Pb",
        "outputId": "72d3db74-c4e9-44cb-95bb-5499cd1bb473"
      },
      "execution_count": 30,
      "outputs": [
        {
          "output_type": "stream",
          "name": "stdout",
          "text": [
            "4.5\n",
            "4.5\n",
            "1\n",
            "7\n",
            "6\n",
            "2.449489742783178\n"
          ]
        }
      ]
    },
    {
      "cell_type": "code",
      "source": [
        "# 17.Write a function which checks if all items are unique in the list.\n",
        "def all_unique(list):\n",
        "  list = [1,2,3,4,5]\n",
        "  return len(list) == len(set(list))\n",
        "print(all_unique(list))\n",
        "\n",
        ""
      ],
      "metadata": {
        "colab": {
          "base_uri": "https://localhost:8080/"
        },
        "id": "QsP0L_EMr3Bz",
        "outputId": "b75a26c5-1053-4627-b07c-2e95ef83e236"
      },
      "execution_count": 34,
      "outputs": [
        {
          "output_type": "stream",
          "name": "stdout",
          "text": [
            "True\n"
          ]
        }
      ]
    },
    {
      "cell_type": "code",
      "source": [
        "# 18.Write a function which checks if all the items of the list are of the same data type\n",
        "def all_same_type(list):\n",
        "  list = ['apple','banana','orange']\n",
        "  return len(set(type(item) for item in list)) ==1\n",
        "print(all_same_type(list))"
      ],
      "metadata": {
        "colab": {
          "base_uri": "https://localhost:8080/"
        },
        "id": "JuseZaUvu86t",
        "outputId": "506ee61e-22ee-4065-9117-eded52084a15"
      },
      "execution_count": 38,
      "outputs": [
        {
          "output_type": "stream",
          "name": "stdout",
          "text": [
            "True\n",
            "[1, 2, 3, 4, 5, 6, 7, 8]\n"
          ]
        }
      ]
    },
    {
      "cell_type": "code",
      "source": [
        "# 20.Write a Python program to detect the number of local variables declared in a function.\n",
        "def count_local_variables():\n",
        "    x = 10\n",
        "    y = 20\n",
        "    z = 30\n",
        "    local_variables = locals()\n",
        "    return len(local_variables)\n",
        "print(count_local_variables())"
      ],
      "metadata": {
        "colab": {
          "base_uri": "https://localhost:8080/"
        },
        "id": "0yjSVk-ywM-N",
        "outputId": "fdf3d7c2-6153-40b6-b16a-ba6db57f99cd"
      },
      "execution_count": 39,
      "outputs": [
        {
          "output_type": "stream",
          "name": "stdout",
          "text": [
            "3\n"
          ]
        }
      ]
    },
    {
      "cell_type": "code",
      "source": [],
      "metadata": {
        "id": "JeTVX_bNyBZS"
      },
      "execution_count": null,
      "outputs": []
    }
  ]
}