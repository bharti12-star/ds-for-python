{
 "cells": [
  {
   "cell_type": "markdown",
   "id": "f11604ad-8796-48fc-ba21-626cc9285535",
   "metadata": {},
   "source": [
    "Question No 1: Create the variable first name and your last name and Compare the\r\n",
    "length of your first name and your last name."
   ]
  },
  {
   "cell_type": "code",
   "execution_count": 5,
   "id": "20e5345a-a733-4075-9959-f64f692deec7",
   "metadata": {},
   "outputs": [
    {
     "name": "stdout",
     "output_type": "stream",
     "text": [
      "first name is longer than last name\n",
      "last name is longer than first name\n",
      "first and last name are same length \n"
     ]
    }
   ],
   "source": [
    "first_name = \"Bharti\"\n",
    "last_name = \"aasudani\"\n",
    "first_name_length = len(first_name)\n",
    "last_name_length = len(last_name)\n",
    "print(\"first name is longer than last name\")\n",
    "print(\"last name is longer than first name\")\n",
    "print(\"first and last name are same length \")"
   ]
  },
  {
   "cell_type": "markdown",
   "id": "3f7d5d2f-1c3f-4f90-9458-d97f0a50204c",
   "metadata": {},
   "source": [
    "Using the len() built-in function, find the length of your first\r\n",
    "name"
   ]
  },
  {
   "cell_type": "code",
   "execution_count": 7,
   "id": "8429dddd-12ee-4869-a086-94c8be27eaa3",
   "metadata": {},
   "outputs": [
    {
     "name": "stdout",
     "output_type": "stream",
     "text": [
      "the lenght of first name is 6\n"
     ]
    }
   ],
   "source": [
    "first_name = \"Bharti\"\n",
    "first_name_length = len(first_name)\n",
    "print(\"the lenght of first name is\",first_name_length)"
   ]
  },
  {
   "cell_type": "markdown",
   "id": "831d86ce-79d2-4250-8250-9b038899a78a",
   "metadata": {},
   "source": [
    "Question No 2: Declare 5 as num_one and 4 as num_two"
   ]
  },
  {
   "cell_type": "markdown",
   "id": "c3be98ef-8154-4c44-99b5-144a7497f04a",
   "metadata": {},
   "source": [
    "Add num_one and num_two and assign the value to a variable total"
   ]
  },
  {
   "cell_type": "code",
   "execution_count": 10,
   "id": "394b394f-cf81-4c91-9b35-a88954093c2e",
   "metadata": {},
   "outputs": [
    {
     "name": "stdin",
     "output_type": "stream",
     "text": [
      "enter the first number 5\n",
      "enter the second number 4\n"
     ]
    },
    {
     "name": "stdout",
     "output_type": "stream",
     "text": [
      "the sum of numbers is  9.0\n"
     ]
    }
   ],
   "source": [
    "number1 = float(input(\"enter the first number\"))\n",
    "number2 = float(input(\"enter the second number\"))\n",
    "sum = number2 + number1\n",
    "print(\"the sum of numbers is \",sum)"
   ]
  },
  {
   "cell_type": "markdown",
   "id": "71b6b3c7-1b1d-4821-85d8-ad182c4ad29b",
   "metadata": {},
   "source": [
    "Subtract num_two from num_one and assign the value to a variable\r\n",
    "diff"
   ]
  },
  {
   "cell_type": "code",
   "execution_count": 1,
   "id": "ff0505e1-fbb0-479f-94a8-f12e0e321287",
   "metadata": {},
   "outputs": [
    {
     "name": "stdin",
     "output_type": "stream",
     "text": [
      "enter the second number 4\n",
      "enter the first number 5\n"
     ]
    },
    {
     "name": "stdout",
     "output_type": "stream",
     "text": [
      "the diff of numbers is  -1.0\n"
     ]
    }
   ],
   "source": [
    "number2 = float(input(\"enter the second number\"))\n",
    "number1 = float(input(\"enter the first number\"))\n",
    "diff = number2 - number1\n",
    "print(\"the diff of numbers is \",diff)"
   ]
  },
  {
   "cell_type": "markdown",
   "id": "188fb2db-192d-465c-a886-b0591367594e",
   "metadata": {},
   "source": [
    "Multiply num_two and num_one and assign the value to a variable\n",
    "product"
   ]
  },
  {
   "cell_type": "code",
   "execution_count": 3,
   "id": "d095b42a-8812-4e44-9cda-24d96406bdfd",
   "metadata": {},
   "outputs": [
    {
     "name": "stdin",
     "output_type": "stream",
     "text": [
      "enter the first number 5\n",
      "enter the second number 4\n"
     ]
    },
    {
     "name": "stdout",
     "output_type": "stream",
     "text": [
      "the multiply of numbers is  20.0\n"
     ]
    }
   ],
   "source": [
    "number1 = float(input(\"enter the first number\"))\n",
    "number2 = float(input(\"enter the second number\"))\n",
    "multiply = number2 * number1\n",
    "print(\"the multiply of numbers is \",multiply)"
   ]
  },
  {
   "cell_type": "markdown",
   "id": "387bc799-aba8-4abb-8ab1-f5bd232c9c32",
   "metadata": {},
   "source": [
    "Divide num_one by num_two and assign the value to a variable\r\n",
    "division"
   ]
  },
  {
   "cell_type": "code",
   "execution_count": 7,
   "id": "2c5ffdee-3156-403d-b003-78bf95e3b5bf",
   "metadata": {},
   "outputs": [
    {
     "name": "stdin",
     "output_type": "stream",
     "text": [
      "enter the first number 5\n",
      "enter the second number 4\n"
     ]
    },
    {
     "name": "stdout",
     "output_type": "stream",
     "text": [
      "the divide of numbers is  1.25\n"
     ]
    }
   ],
   "source": [
    "number1 = float(input(\"enter the first number\"))\n",
    "number2 = float(input(\"enter the second number\"))\n",
    "divide = number1/number2\n",
    "print(\"the divide of numbers is \",divide)"
   ]
  },
  {
   "cell_type": "markdown",
   "id": "9bc00efc-fa3c-4bc8-9c91-754f530fd978",
   "metadata": {},
   "source": [
    "Use modulus division to find num_two divided by num_one and assign\n",
    "the value to a variable remainder"
   ]
  },
  {
   "cell_type": "code",
   "execution_count": 29,
   "id": "9299fd4c-bf49-4d7f-9def-f887183c0eec",
   "metadata": {},
   "outputs": [
    {
     "name": "stdin",
     "output_type": "stream",
     "text": [
      "enter the first number 5\n",
      "enter the second number 4\n"
     ]
    },
    {
     "name": "stdout",
     "output_type": "stream",
     "text": [
      "the floor reminder of numbers is  4.0\n"
     ]
    }
   ],
   "source": [
    "number1 = float(input(\"enter the first number\"))\n",
    "number2 = float(input(\"enter the second number\"))\n",
    "reminder = number2 % number1\n",
    "print(\"the floor reminder of numbers is \",reminder)"
   ]
  },
  {
   "cell_type": "markdown",
   "id": "c5b4b6d1-e8a6-4bd5-8243-9b7bd89d6fde",
   "metadata": {},
   "source": [
    "Calculate num_one to the power of num_two and assign the value to\n",
    "a variable exp"
   ]
  },
  {
   "cell_type": "code",
   "execution_count": 9,
   "id": "ed4ff658-f8c0-4a36-bc7e-20dd3f4779c5",
   "metadata": {},
   "outputs": [
    {
     "name": "stdin",
     "output_type": "stream",
     "text": [
      "enter the first number 5\n",
      "enter the second number 4\n"
     ]
    },
    {
     "name": "stdout",
     "output_type": "stream",
     "text": [
      "the power of numbers is  625.0\n"
     ]
    }
   ],
   "source": [
    "number1 = float(input(\"enter the first number\"))\n",
    "number2 = float(input(\"enter the second number\"))\n",
    "power = number1**number2\n",
    "print(\"the power of numbers is \",power)"
   ]
  },
  {
   "cell_type": "markdown",
   "id": "00dca9c0-afb6-48cf-b8f9-b37566db6062",
   "metadata": {},
   "source": [
    "Find floor division of num_one by num_two and assign the value to\r\n",
    "a variable floor_division"
   ]
  },
  {
   "cell_type": "code",
   "execution_count": 27,
   "id": "bce8db7b-ff8f-4c54-b0f7-4f58e6146ff9",
   "metadata": {},
   "outputs": [
    {
     "name": "stdin",
     "output_type": "stream",
     "text": [
      "enter the first number 5\n",
      "enter the second number 4\n"
     ]
    },
    {
     "name": "stdout",
     "output_type": "stream",
     "text": [
      "the floor division of numbers is  1.0\n"
     ]
    }
   ],
   "source": [
    "number1 = float(input(\"enter the first number\"))\n",
    "number2 = float(input(\"enter the second number\"))\n",
    "floor_division = number1//number2\n",
    "print(\"the floor division of numbers is \",floor_division)"
   ]
  },
  {
   "cell_type": "markdown",
   "id": "ea43dd19-3334-42ad-80fc-68782e16de44",
   "metadata": {},
   "source": [
    "The radius of a circle is 30 meters.\r\n",
    " Calculate the area of a circle and assign the value to a variable\r\n",
    "name of area_of_circle\r\n",
    " Calculate the circumference of a circle and assign the value to a\r\n",
    "variable name of circum_of_circle\r\n",
    " Take radius as user input and calculate the area."
   ]
  },
  {
   "cell_type": "code",
   "execution_count": 37,
   "id": "7321ed01-d68f-46e7-bb66-420da0eb1c28",
   "metadata": {},
   "outputs": [
    {
     "name": "stdout",
     "output_type": "stream",
     "text": [
      "area of circle\n",
      "circum of circle\n"
     ]
    }
   ],
   "source": [
    "r = 30\n",
    "pi = 3.14\n",
    "area_of_a_circle = pi*r**2\n",
    "circum_of_circle = 2*pi*r\n",
    "print(\"area of circle\")\n",
    "print(\"circum of circle\")"
   ]
  },
  {
   "cell_type": "markdown",
   "id": "d7ccb027-05e0-46fc-b020-b75ce766596c",
   "metadata": {},
   "source": [
    "Question No 4: A grocery store sells a bag of ice for $1.25 and makes a 20% profit. If\r\n",
    "it sells 500 bags of ice, how much total profit does it make?"
   ]
  },
  {
   "cell_type": "code",
   "execution_count": 17,
   "id": "ff3e2845-8aaa-4209-8691-ff5d8c7079cb",
   "metadata": {},
   "outputs": [
    {
     "name": "stdout",
     "output_type": "stream",
     "text": [
      "125.0\n"
     ]
    }
   ],
   "source": [
    "price_of_bag = 1.25\n",
    "profit_margin = 0.20\n",
    "no_of_bags = 500\n",
    "revenue_margin = no_of_bags * price_of_bag\n",
    "total_profit = revenue_margin * profit_margin\n",
    "print(total_profit)\n"
   ]
  },
  {
   "cell_type": "markdown",
   "id": "9f8e33df-f1f4-44c5-94a7-3a920ffbe4b8",
   "metadata": {},
   "source": [
    "Question no 5: A travel company wants to fly a plane to the Bahamas. Flying the plane\r\n",
    "costs 5000 dollars. So far, 29 people have signed up for the trip. If\r\n",
    "the company charges 200 dollars per ticket, what is the profit made by\r\n",
    "the company? Create variables for each numeric quantity and use\r\n",
    "appropriate arithmetic operations."
   ]
  },
  {
   "cell_type": "code",
   "execution_count": 23,
   "id": "49f4dbaf-b923-4aef-bfde-a838c2d285b5",
   "metadata": {},
   "outputs": [
    {
     "name": "stdout",
     "output_type": "stream",
     "text": [
      "2900000\n"
     ]
    }
   ],
   "source": [
    "plane_costs = 500\n",
    "no_of_people = 29\n",
    "company_charge_per_ticket = 200\n",
    "total_revenue = company_charge_per_ticket * no_of_people\n",
    "profit = total_revenue * plane_costs\n",
    "print(profit)"
   ]
  },
  {
   "cell_type": "code",
   "execution_count": null,
   "id": "fd986159-0cdb-422a-97ac-7aa6daf4ed85",
   "metadata": {},
   "outputs": [],
   "source": []
  }
 ],
 "metadata": {
  "kernelspec": {
   "display_name": "Python 3 (ipykernel)",
   "language": "python",
   "name": "python3"
  },
  "language_info": {
   "codemirror_mode": {
    "name": "ipython",
    "version": 3
   },
   "file_extension": ".py",
   "mimetype": "text/x-python",
   "name": "python",
   "nbconvert_exporter": "python",
   "pygments_lexer": "ipython3",
   "version": "3.12.4"
  }
 },
 "nbformat": 4,
 "nbformat_minor": 5
}
