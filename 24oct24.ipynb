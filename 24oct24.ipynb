{
 "cells": [
  {
   "cell_type": "code",
   "execution_count": 17,
   "id": "2fa0fcca-03a8-4037-936b-cfc1ea4a95d8",
   "metadata": {},
   "outputs": [
    {
     "name": "stdout",
     "output_type": "stream",
     "text": [
      "origional list [1, 2, 3, 4]\n"
     ]
    }
   ],
   "source": [
    "def list_square(num_list):\n",
    "    return\n",
    "    temp_list=[]\n",
    "    for num in num_list:\n",
    "        temp_list.append(num**2)\n",
    "        return temp_list \n",
    "num_list=[1,2,3,4]\n",
    "print(\"origional list\",num_list)\n",
    "list_square(num_list)"
   ]
  },
  {
   "cell_type": "code",
   "execution_count": 25,
   "id": "cdd01f28-b4d1-4856-a1a7-5e1e23e8aec6",
   "metadata": {},
   "outputs": [],
   "source": [
    "def sum_list(num_list):\n",
    "  sum=0\n",
    "  for i in num_list:\n",
    "    sum = sum + i\n",
    "  return sum\n",
    "  num_list=[1,2,3,4,5]\n",
    "  print(\"origional_list\",num_list)\n",
    "  sum_list(num_list)\n"
   ]
  },
  {
   "cell_type": "code",
   "execution_count": 31,
   "id": "771d91b9-56e7-479a-b627-3afe036a5b01",
   "metadata": {},
   "outputs": [],
   "source": [
    "def is_vallid_even(num):\n",
    "    if type (num)==\"int\":\n",
    "        if num%2==0:\n",
    "            print(\"number is even\")\n",
    "    else:\n",
    "        print(\"number is odd\")\n",
    "    \n"
   ]
  },
  {
   "cell_type": "code",
   "execution_count": null,
   "id": "93112924-db43-4935-9000-e2a1aa6251c8",
   "metadata": {},
   "outputs": [],
   "source": [
    "# defalut arguments\n",
    "# positional argumenys\n",
    "# keywords arguments"
   ]
  },
  {
   "cell_type": "code",
   "execution_count": 33,
   "id": "428d05ff-6f28-4dc2-99b5-fcf559dce440",
   "metadata": {},
   "outputs": [],
   "source": [
    "def power(a=1,b=2):\n",
    "    return a**b"
   ]
  },
  {
   "cell_type": "code",
   "execution_count": 35,
   "id": "c4f474f7-c4f2-43a4-9778-efaff27fbb54",
   "metadata": {},
   "outputs": [
    {
     "data": {
      "text/plain": [
       "8"
      ]
     },
     "execution_count": 35,
     "metadata": {},
     "output_type": "execute_result"
    }
   ],
   "source": [
    "power (b=3,a=2)"
   ]
  },
  {
   "cell_type": "code",
   "execution_count": 37,
   "id": "ab647096-95b6-4f43-acb7-e213f94f62ed",
   "metadata": {},
   "outputs": [
    {
     "data": {
      "text/plain": [
       "531441"
      ]
     },
     "execution_count": 37,
     "metadata": {},
     "output_type": "execute_result"
    }
   ],
   "source": [
    "power (a=9,b=6)"
   ]
  },
  {
   "cell_type": "code",
   "execution_count": 39,
   "id": "9fec92ce-a423-43aa-aa97-6a3bc2aee323",
   "metadata": {},
   "outputs": [],
   "source": [
    "def product(*args):\n",
    "    product=1\n",
    "    for i in args:\n",
    "        product = product+1\n",
    "    print(args)\n",
    "    return product"
   ]
  },
  {
   "cell_type": "code",
   "execution_count": 47,
   "id": "a187ab6c-0fa6-4577-8513-d41c0957d62e",
   "metadata": {},
   "outputs": [
    {
     "ename": "NameError",
     "evalue": "name 'product' is not defined",
     "output_type": "error",
     "traceback": [
      "\u001b[1;31m---------------------------------------------------------------------------\u001b[0m",
      "\u001b[1;31mNameError\u001b[0m                                 Traceback (most recent call last)",
      "Cell \u001b[1;32mIn[47], line 1\u001b[0m\n\u001b[1;32m----> 1\u001b[0m product(\u001b[38;5;241m1\u001b[39m,\u001b[38;5;241m2\u001b[39m,\u001b[38;5;241m3\u001b[39m,\u001b[38;5;241m4\u001b[39m,\u001b[38;5;241m5\u001b[39m,\u001b[38;5;241m6\u001b[39m,\u001b[38;5;241m7\u001b[39m,\u001b[38;5;241m8\u001b[39m,\u001b[38;5;241m9\u001b[39m)\n",
      "\u001b[1;31mNameError\u001b[0m: name 'product' is not defined"
     ]
    }
   ],
   "source": [
    "product(1,2,3,4,5,6,7,8,9)"
   ]
  },
  {
   "cell_type": "code",
   "execution_count": null,
   "id": "e9becaf6-ba8b-421a-b178-73a458611cd5",
   "metadata": {},
   "outputs": [],
   "source": [
    "*****************portfolio******************\n",
    "Name = \"Bharti\"\n",
    "Age = 23\n",
    "Profession = student\n",
    "Oraganization = ned university\n",
    "skilla = ms office "
   ]
  },
  {
   "cell_type": "code",
   "execution_count": 51,
   "id": "70bdf7fe-c355-4571-b127-542f4bcb237f",
   "metadata": {},
   "outputs": [
    {
     "name": "stdin",
     "output_type": "stream",
     "text": [
      "enter your name Bharti\n",
      "enter your gender female\n",
      "enter your age 23\n",
      "enter your skills ms office, python\n"
     ]
    },
    {
     "name": "stdout",
     "output_type": "stream",
     "text": [
      "('Bharti', 'female', 23, 'ms office, python')\n"
     ]
    }
   ],
   "source": [
    "def user_details(*args):\n",
    "    print(args)\n",
    "name = input(\"enter your name\")\n",
    "gender = input(\"enter your gender\")\n",
    "age = int(input(\"enter your age\"))\n",
    "skills = input(\"enter your skills\")\n",
    "user_details(name,gender,age,skills)\n",
    "\n"
   ]
  },
  {
   "cell_type": "code",
   "execution_count": 55,
   "id": "49d21f79-667f-4866-ab0c-222133d98d91",
   "metadata": {},
   "outputs": [
    {
     "name": "stdin",
     "output_type": "stream",
     "text": [
      "enter your name bharti\n",
      "enter your gender female\n",
      "enter your age 23\n",
      "enter your skills ms office\n"
     ]
    },
    {
     "ename": "TypeError",
     "evalue": "'builtin_function_or_method' object is not iterable",
     "output_type": "error",
     "traceback": [
      "\u001b[1;31m---------------------------------------------------------------------------\u001b[0m",
      "\u001b[1;31mTypeError\u001b[0m                                 Traceback (most recent call last)",
      "Cell \u001b[1;32mIn[55], line 8\u001b[0m\n\u001b[0;32m      6\u001b[0m age \u001b[38;5;241m=\u001b[39m \u001b[38;5;28mint\u001b[39m(\u001b[38;5;28minput\u001b[39m(\u001b[38;5;124m\"\u001b[39m\u001b[38;5;124menter your age\u001b[39m\u001b[38;5;124m\"\u001b[39m))\n\u001b[0;32m      7\u001b[0m skills \u001b[38;5;241m=\u001b[39m \u001b[38;5;28minput\u001b[39m(\u001b[38;5;124m\"\u001b[39m\u001b[38;5;124menter your skills\u001b[39m\u001b[38;5;124m\"\u001b[39m)\n\u001b[1;32m----> 8\u001b[0m user_details(name\u001b[38;5;241m=\u001b[39mname,gender\u001b[38;5;241m=\u001b[39mgender,age\u001b[38;5;241m=\u001b[39mage,skills\u001b[38;5;241m=\u001b[39mskills)\n",
      "Cell \u001b[1;32mIn[55], line 2\u001b[0m, in \u001b[0;36muser_details\u001b[1;34m(**kwargs)\u001b[0m\n\u001b[0;32m      1\u001b[0m \u001b[38;5;28;01mdef\u001b[39;00m \u001b[38;5;21muser_details\u001b[39m(\u001b[38;5;241m*\u001b[39m\u001b[38;5;241m*\u001b[39mkwargs):\n\u001b[1;32m----> 2\u001b[0m     \u001b[38;5;28;01mfor\u001b[39;00m key,value \u001b[38;5;129;01min\u001b[39;00m kwargs\u001b[38;5;241m.\u001b[39mitems:\n\u001b[0;32m      3\u001b[0m         \u001b[38;5;28mprint\u001b[39m(key,\u001b[38;5;124m'\u001b[39m\u001b[38;5;124m....\u001b[39m\u001b[38;5;124m'\u001b[39m,value)\n",
      "\u001b[1;31mTypeError\u001b[0m: 'builtin_function_or_method' object is not iterable"
     ]
    }
   ],
   "source": [
    "def user_details(**kwargs):\n",
    "    for key,value in kwargs.items:\n",
    "        print(key,'....',value)\n",
    "name = input(\"enter your name\")\n",
    "gender = input(\"enter your gender\")\n",
    "age = int(input(\"enter your age\"))\n",
    "skills = input(\"enter your skills\")\n",
    "user_details(name=name,gender=gender,age=age,skills=skills)"
   ]
  },
  {
   "cell_type": "code",
   "execution_count": 61,
   "id": "5e0c736c-516b-4d08-800b-e2745544d7e2",
   "metadata": {},
   "outputs": [
    {
     "name": "stdin",
     "output_type": "stream",
     "text": [
      "enter your school name G.G.H.S.BELA\n",
      "enter your college name G.G.I.C.BELA\n",
      "enter your uni name LASBELA UNI\n"
     ]
    },
    {
     "ename": "TypeError",
     "evalue": "institute() takes 0 positional arguments but 6 were given",
     "output_type": "error",
     "traceback": [
      "\u001b[1;31m---------------------------------------------------------------------------\u001b[0m",
      "\u001b[1;31mTypeError\u001b[0m                                 Traceback (most recent call last)",
      "Cell \u001b[1;32mIn[61], line 7\u001b[0m\n\u001b[0;32m      5\u001b[0m college \u001b[38;5;241m=\u001b[39m \u001b[38;5;28minput\u001b[39m(\u001b[38;5;124m\"\u001b[39m\u001b[38;5;124menter your college name\u001b[39m\u001b[38;5;124m\"\u001b[39m)\n\u001b[0;32m      6\u001b[0m uni \u001b[38;5;241m=\u001b[39m \u001b[38;5;28minput\u001b[39m(\u001b[38;5;124m\"\u001b[39m\u001b[38;5;124menter your uni name\u001b[39m\u001b[38;5;124m\"\u001b[39m)\n\u001b[1;32m----> 7\u001b[0m institute(school,\u001b[38;5;124m'\u001b[39m\u001b[38;5;124mschool\u001b[39m\u001b[38;5;124m'\u001b[39m,college,\u001b[38;5;124m'\u001b[39m\u001b[38;5;124mcollege\u001b[39m\u001b[38;5;124m'\u001b[39m,uni,\u001b[38;5;124m'\u001b[39m\u001b[38;5;124muni\u001b[39m\u001b[38;5;124m'\u001b[39m)\n",
      "\u001b[1;31mTypeError\u001b[0m: institute() takes 0 positional arguments but 6 were given"
     ]
    }
   ],
   "source": [
    "def institute(**kwargs):\n",
    "    for key,value in kwargs.items:\n",
    "        print(key,'....',value)\n",
    "school = input(\"enter your school name\")\n",
    "college = input(\"enter your college name\")\n",
    "uni = input(\"enter your uni name\")\n",
    "institute(school,'school',college,'college',uni,'uni')"
   ]
  },
  {
   "cell_type": "code",
   "execution_count": null,
   "id": "4d8acf69-f3c6-4ea3-86c5-dead0231c8f9",
   "metadata": {},
   "outputs": [],
   "source": []
  }
 ],
 "metadata": {
  "kernelspec": {
   "display_name": "Python 3 (ipykernel)",
   "language": "python",
   "name": "python3"
  },
  "language_info": {
   "codemirror_mode": {
    "name": "ipython",
    "version": 3
   },
   "file_extension": ".py",
   "mimetype": "text/x-python",
   "name": "python",
   "nbconvert_exporter": "python",
   "pygments_lexer": "ipython3",
   "version": "3.12.4"
  }
 },
 "nbformat": 4,
 "nbformat_minor": 5
}
