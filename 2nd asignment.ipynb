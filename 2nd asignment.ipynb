{
 "cells": [
  {
   "cell_type": "code",
   "execution_count": 97,
   "id": "443a3cf0-8e4c-42ca-bfea-f63ff1b02996",
   "metadata": {},
   "outputs": [
    {
     "name": "stdout",
     "output_type": "stream",
     "text": [
      "6\n"
     ]
    }
   ],
   "source": [
    "# 1.Declare an empty list\n",
    "empty_list = []\n",
    "# 2.Declare a list with more than 5 items\n",
    "list = [1,2,3,4,5,6]\n",
    "# 3.Find the length of your list\n",
    "lenght_of_list = len(list)\n",
    "print(lenght_of_list)\n",
    "# 4. Get the first item, the middle item and the last item of the list\n",
    "first_item = list[0]\n",
    "middle_item = "
   ]
  },
  {
   "cell_type": "code",
   "execution_count": null,
   "id": "60c4c220-f651-484c-8dce-4dca5b6579c3",
   "metadata": {},
   "outputs": [],
   "source": [
    "# 5. Declare a list called mixed_data_types, put your (name, age, height, marital status, address)\n",
    "mixed_data_type = ['bharti',23,5.1,'single','light house']"
   ]
  },
  {
   "cell_type": "code",
   "execution_count": 112,
   "id": "ae7d1962-c5b3-49c8-a13c-50bc4458175f",
   "metadata": {},
   "outputs": [
    {
     "name": "stdout",
     "output_type": "stream",
     "text": [
      "it companies ['Facebook', 'Google', 'Microsoft', 'Apple', 'IBM', 'Oracle', 'Amazon']\n",
      "number of it companies 7\n"
     ]
    }
   ],
   "source": [
    "# 6. Declare a list variable named IT_companies\n",
    "it_companies = ['Facebook', 'Google', 'Microsoft', 'Apple', 'IBM', 'Oracle', 'Amazon']\n",
    "print('it companies',it_companies)\n",
    "num_of_companies = len(it_companies)\n",
    "print('number of it companies',num_of_companies)\n"
   ]
  },
  {
   "cell_type": "code",
   "execution_count": 114,
   "id": "bb270adb-0818-42cc-9566-4a396a3ef228",
   "metadata": {},
   "outputs": [
    {
     "name": "stdout",
     "output_type": "stream",
     "text": [
      "modified it companies ['Facebook', 'Google', 'netflix', 'Apple', 'IBM', 'Oracle', 'Amazon']\n"
     ]
    }
   ],
   "source": [
    "# 7. Print the first, middle and last company\n",
    "\n",
    "# 8. Print the list after modifying one of the companies\n",
    "initial_companies =['Facebook', 'Google', 'Microsoft', 'Apple', 'IBM', 'Oracle', 'Amazon']\n",
    "#microsoft replace with netflix\n",
    "it_companies[2] = \"netflix\"\n",
    "print('modified it companies',it_companies)\n"
   ]
  },
  {
   "cell_type": "code",
   "execution_count": 15,
   "id": "35afa0c4-d9ce-4a3c-b348-8985ecaff1a9",
   "metadata": {},
   "outputs": [
    {
     "name": "stdout",
     "output_type": "stream",
     "text": [
      "updated it list ['Facebook', 'Google', 'netflix', 'Apple', 'IBM', 'Oracle', 'Amazon', 'accenture']\n",
      "sorted it companies ['Amazon', 'Apple', 'Facebook', 'Google', 'IBM', 'Oracle', 'accenture', 'netflix']\n",
      "reversed it companies ['netflix', 'accenture', 'Oracle', 'IBM', 'Google', 'Facebook', 'Apple', 'Amazon']\n",
      "first three companies ['netflix', 'accenture', 'Oracle']\n",
      "last three companies ['Facebook', 'Apple', 'Amazon']\n",
      "middle company ['Google']\n",
      "it companies after removing first company ['accenture', 'Oracle', 'IBM', 'Google', 'Facebook', 'Apple', 'Amazon']\n",
      "it companies after removing middle company ['accenture', 'Oracle', 'IBM', 'Facebook', 'Apple', 'Amazon']\n",
      "it companies after removing last company ['accenture', 'Oracle', 'IBM', 'Facebook', 'Apple']\n",
      "it companies after clearing []\n"
     ]
    }
   ],
   "source": [
    "#9. Add an IT company to IT_companies\n",
    "it_companies = ['Facebook', 'Google', 'netflix', 'Apple', 'IBM', 'Oracle', 'Amazon']\n",
    "it_companies.append('accenture')\n",
    "print('updated it list',it_companies)\n",
    "# 12. Sort the list using sort () method\n",
    "it_companies.sort()\n",
    "print('sorted it companies',it_companies)\n",
    "# 13. Reverse the list in descending order using reverse() method\n",
    "it_companies.reverse()\n",
    "print('reversed it companies',it_companies)\n",
    "# 14. Slice out the first 3 companies from the list\n",
    "first_three_companies = it_companies[:3]\n",
    "print('first three companies',first_three_companies)\n",
    "# 15. Slice out the last 3 companies from the list\n",
    "last_three_companies = it_companies[-3:]\n",
    "print('last three companies',last_three_companies)\n",
    "# 16. Slice out the middle IT company or companies from the list\n",
    "middle_it_company = it_companies[4::9]\n",
    "print('middle company',middle_it_company)\n",
    "# 17. Remove the first IT company from the list\n",
    "it_companies.pop(0)\n",
    "print('it companies after removing first company',it_companies)\n",
    "# 18. Remove the middle IT company or companies from the list\n",
    "it_companies.pop(3)\n",
    "print('it companies after removing middle company',it_companies)\n",
    "# 19. Remove the last IT company from the list\n",
    "it_companies.pop(5)\n",
    "print('it companies after removing last company',it_companies)\n",
    "# 20. Remove all IT companies from the list\n",
    "it_companies.clear()\n",
    "print('it companies after clearing',it_companies)\n",
    "# 21. Destroy the IT companies list\n",
    "del it_companies\n"
   ]
  },
  {
   "cell_type": "code",
   "execution_count": 23,
   "id": "19ccda02-2425-40e0-a58c-9eac95c9749b",
   "metadata": {},
   "outputs": [
    {
     "name": "stdout",
     "output_type": "stream",
     "text": [
      "full stack ['HTML', 'CSS', 'JS', 'React', 'Redux', 'Node', 'Express', 'MongoDB']\n",
      "full_stack after adding python and SQL ['HTML', 'CSS', 'JS', 'React', 'Redux', 'python', 'SQL', 'Node', 'Express', 'MongoDB']\n"
     ]
    }
   ],
   "source": [
    "# 22. Join the following lists:\n",
    "front_end = ['HTML', 'CSS', 'JS', 'React', 'Redux']\n",
    "back_end = ['Node','Express', 'MongoDB']\n",
    "full_stack = front_end + back_end\n",
    "print('full stack',full_stack)\n",
    "# 23.  Insert Python and SQL after Redux in full_stack\n",
    "full_stack.insert(full_stack.index('Redux')+1, 'python')\n",
    "full_stack.insert(full_stack.index('python')+1,'SQL')\n",
    "print('full_stack after adding python and SQL',full_stack)\n"
   ]
  },
  {
   "cell_type": "code",
   "execution_count": 41,
   "id": "ca35707e-0872-4587-9cfc-a50436d67404",
   "metadata": {},
   "outputs": [
    {
     "name": "stdout",
     "output_type": "stream",
     "text": [
      "sorted ages [19, 19, 20, 22, 24, 24, 24, 25, 25, 26]\n",
      "minimum age 19\n",
      "maximum age 26\n",
      "age after adding max and min age again [19, 19, 20, 22, 24, 24, 24, 25, 25, 26, 26, 19]\n",
      "average age 22.75\n",
      "age range 7\n",
      "diff between min age and avrage age 3.75\n",
      "diff between max age and avrage age 3.25\n"
     ]
    }
   ],
   "source": [
    "# 24. List of student ages\n",
    "ages = [19, 22, 19, 24, 20, 25, 26, 24, 25, 24]\n",
    "# 25. Sort the list and find the min and max age\n",
    "ages.sort()\n",
    "print('sorted ages',ages)\n",
    "#min_age\n",
    "min_age = min(ages)\n",
    "max_age = max(ages)\n",
    "print('minimum age',min_age)\n",
    "print('maximum age',max_age)\n",
    "# 25. Add the min age and the max age again to the list\n",
    "ages.extend([max_age,min_age])\n",
    "print('age after adding max and min age again',ages)\n",
    "# 26.Find the average age\n",
    "average_age = sum(ages)/len(ages)\n",
    "print('average age',average_age)\n",
    "# 27.Find the range of the ages\n",
    "age_range = max_age-min_age\n",
    "print('age range',age_range)\n",
    "# 28. Compare the value of (min - average) and (max - average), use abs () method\n",
    "min_average_diff = abs(min_age-average_age)\n",
    "max_average_diff = abs(max_age-average_age)\n",
    "print('diff between min age and avrage age',min_average_diff)\n",
    "print('diff between max age and avrage age',max_average_diff)\n"
   ]
  },
  {
   "cell_type": "code",
   "execution_count": 75,
   "id": "bb911f30-962d-4e89-888f-cae27d9a000e",
   "metadata": {},
   "outputs": [
    {
     "name": "stdout",
     "output_type": "stream",
     "text": [
      "()\n",
      "('aneel', 'sunil', 'lalit', 'vrinda', 'chitra')\n",
      "number of siblings 5\n",
      "family members ('aneel', 'sunil', 'lalit', 'vrinda', 'chitra', 'geeta', 'kumar')\n",
      "siblings ['aneel', 'sunil', 'lalit', 'vrinda', 'chitra']\n"
     ]
    }
   ],
   "source": [
    "#tuple\n",
    "# 1. Create an empty tuple\n",
    "empty_tuple =()\n",
    "print(empty_tuple)\n",
    "# 2. Create a tuple containing names of your sisters and your brothers\n",
    "brothers = ('aneel','sunil','lalit')\n",
    "sisters = ('vrinda','chitra')\n",
    "# 3. Join brothers and sisters tuples and assign it to siblings\n",
    "siblings = brothers+sisters\n",
    "print(siblings)\n",
    "# 4. How many siblings do you have?\n",
    "number_of_siblings = len(siblings)\n",
    "print('number of siblings',number_of_siblings)\n",
    "# 5. Modify the siblings tuple and add the name of your father and mother and assign it to family_members.\n",
    "mother = ('geeta')\n",
    "father = ('kumar')\n",
    "family_members = siblings + ('geeta','kumar')\n",
    "print('family members',family_members)\n",
    "# 6. Unpack siblings and parents from family_members\n",
    "*siblings,geeta,kumar, = family_members\n",
    "print('siblings',siblings)"
   ]
  },
  {
   "cell_type": "code",
   "execution_count": 93,
   "id": "346dbee2-1e62-4b8d-b384-f8997f4c76fa",
   "metadata": {},
   "outputs": [
    {
     "name": "stdout",
     "output_type": "stream",
     "text": [
      "food stuff tp ('apple', 'mango', 'banana', 'spanish', 'eggplant', 'okra', 'milk', 'meat', 'crud')\n",
      "food stuff it ['apple', 'mango', 'banana', 'spanish', 'eggplant', 'okra', 'milk', 'meat', 'crud']\n",
      "first three food ['apple', 'mango', 'banana']\n",
      "last three food ['milk', 'meat', 'crud']\n"
     ]
    }
   ],
   "source": [
    "# 7. Create fruits, vegetables and animal products tuples. Join the three tuples and assign it to a variable called food_stuff_tp.\n",
    "fruits = ('apple','mango','banana')\n",
    "vegetables = ('spanish','eggplant','okra')\n",
    "animal_products = ('milk','meat','crud')\n",
    "food_stuff_tp = fruits + vegetables + animal_products\n",
    "print('food stuff tp',food_stuff_tp)\n",
    "# 8. Change the about food_stuff_tp tuple to a food_stuff_lt list\n",
    "food_stuff_it = list(food_stuff_tp)\n",
    "print('food stuff it',food_stuff_it)\n",
    "# 10. Slice out the first three items and the last three items from food_staff_lt list\n",
    "first_three_food = food_stuff_it[:3]\n",
    "last_three_food = food_stuff_it[-3:]\n",
    "print('first three food',first_three_food)\n",
    "print('last three food',last_three_food)\n",
    "# 11. Delete the food_staff_tp tuple completely.\n",
    "del food_stuff_tp"
   ]
  },
  {
   "cell_type": "code",
   "execution_count": 23,
   "id": "741ff2f1-df5a-4f8d-be7a-c2ba55dedce1",
   "metadata": {},
   "outputs": [
    {
     "name": "stdout",
     "output_type": "stream",
     "text": [
      "7\n"
     ]
    }
   ],
   "source": [
    "#set\n",
    "# 1.Find the length of the set it_companies\n",
    "it_companies = {'Facebook', 'Google', 'Microsoft', 'Apple', 'Ibm', 'Oracle', 'Amazon',}\n",
    "length_of_it_companies = len(it_companies)\n",
    "print(length_of_it_companies)"
   ]
  },
  {
   "cell_type": "code",
   "execution_count": 31,
   "id": "afb2c187-59eb-469d-b601-3dbd272558bc",
   "metadata": {},
   "outputs": [
    {
     "name": "stdout",
     "output_type": "stream",
     "text": [
      "{'Facebook', 'Ibm', 'Oracle', 'Amazon', 'Apple', 'Twitter', 'Microsoft', 'Google'}\n"
     ]
    }
   ],
   "source": [
    "# 2.Add 'Twitter' to it_companies\n",
    "it_companies.add('Twitter')\n",
    "print(it_companies)"
   ]
  },
  {
   "cell_type": "code",
   "execution_count": 45,
   "id": "3f29ad7b-bbe7-4b38-b7e7-80c6db5e5ab3",
   "metadata": {},
   "outputs": [
    {
     "name": "stdout",
     "output_type": "stream",
     "text": [
      "{'Ibm', 'instagram', 'Oracle', 'Apple', 'Facebook', 'snapchat', 'tiktok', 'Microsoft', 'Twitter', 'Google', 'Amazon'}\n"
     ]
    }
   ],
   "source": [
    "# 3.Insert multiple IT companies at once to the set it_companies\n",
    "it_companies.update(['instagram','tiktok'])\n",
    "print(it_companies)"
   ]
  },
  {
   "cell_type": "code",
   "execution_count": 49,
   "id": "19fad380-5595-4d5e-8c9b-1c735a258de4",
   "metadata": {},
   "outputs": [
    {
     "name": "stdout",
     "output_type": "stream",
     "text": [
      "{'Ibm', 'instagram', 'Oracle', 'Facebook', 'snapchat', 'tiktok', 'Microsoft', 'Twitter', 'Google', 'Amazon'}\n"
     ]
    }
   ],
   "source": [
    "# 4.Remove one of the companies from the set it_companies\n",
    "it_companies.remove('Apple')\n",
    "print(it_companies)"
   ]
  },
  {
   "cell_type": "code",
   "execution_count": null,
   "id": "248ea44a-a9bb-4cfd-8e22-0417743f85d6",
   "metadata": {},
   "outputs": [],
   "source": [
    "# 5.What is the difference between remove and discard?\n",
    "remove behave if the element is not found it raise key error but discard behave if the elements is not found it does not raise in error."
   ]
  },
  {
   "cell_type": "code",
   "execution_count": 51,
   "id": "a878e14b-6e57-429d-8a24-d41ba6e3969d",
   "metadata": {},
   "outputs": [
    {
     "name": "stdout",
     "output_type": "stream",
     "text": [
      "{19, 20, 22, 24, 25, 26, 27, 28}\n"
     ]
    }
   ],
   "source": [
    "# 6.Join A and B\n",
    "A = {19, 22, 24, 20, 25, 26}\n",
    "B = {19, 22, 20, 25, 26, 24, 28, 27}\n",
    "print(A|B)"
   ]
  },
  {
   "cell_type": "code",
   "execution_count": 1,
   "id": "b3192e90-291e-478d-b40f-e8be6f8f4792",
   "metadata": {},
   "outputs": [
    {
     "name": "stdout",
     "output_type": "stream",
     "text": [
      "Interactive namespace is empty.\n"
     ]
    }
   ],
   "source": [
    "%who"
   ]
  },
  {
   "cell_type": "code",
   "execution_count": 55,
   "id": "e7cfd665-e76b-440f-a323-4184e75eaf04",
   "metadata": {},
   "outputs": [
    {
     "name": "stdout",
     "output_type": "stream",
     "text": [
      "{19, 20, 22, 24, 25, 26}\n"
     ]
    }
   ],
   "source": [
    "# 7.Find A intersection B\n",
    "A = {19, 22, 24, 20, 25, 26}\n",
    "B = {19, 22, 20, 25, 26, 24, 28, 27}\n",
    "print(A&B)"
   ]
  },
  {
   "cell_type": "code",
   "execution_count": 59,
   "id": "ab567ddc-16c8-4209-8bf9-cc0e683866e2",
   "metadata": {},
   "outputs": [
    {
     "data": {
      "text/plain": [
       "True"
      ]
     },
     "execution_count": 59,
     "metadata": {},
     "output_type": "execute_result"
    }
   ],
   "source": [
    "# 8.Is A subset of B\n",
    "A.issubset(B)\n"
   ]
  },
  {
   "cell_type": "code",
   "execution_count": 61,
   "id": "8f0159ea-4907-4c9c-85db-e2c038b8406b",
   "metadata": {},
   "outputs": [
    {
     "data": {
      "text/plain": [
       "False"
      ]
     },
     "execution_count": 61,
     "metadata": {},
     "output_type": "execute_result"
    }
   ],
   "source": [
    "# 9.Are A and B disjoint sets\n",
    "A.isdisjoint(B)"
   ]
  },
  {
   "cell_type": "code",
   "execution_count": null,
   "id": "d211d2e7-c512-4b6e-b9e0-45670b6d9f52",
   "metadata": {},
   "outputs": [],
   "source": [
    "# 10.Join A with B and B with A\n",
    "A"
   ]
  },
  {
   "cell_type": "code",
   "execution_count": 63,
   "id": "3df662a3-f21f-4f35-aeb3-59d70c924145",
   "metadata": {},
   "outputs": [
    {
     "name": "stdout",
     "output_type": "stream",
     "text": [
      "{27, 28}\n"
     ]
    }
   ],
   "source": [
    "# 11. What is the symmetric difference between A and B\n",
    "A = {19, 22, 24, 20, 25, 26}\n",
    "B = {19, 22, 20, 25, 26, 24, 28, 27}\n",
    "print(A^B)"
   ]
  },
  {
   "cell_type": "code",
   "execution_count": 9,
   "id": "766c164e-6cd4-4056-aa6f-fe75b5165a38",
   "metadata": {},
   "outputs": [],
   "source": [
    "# 12. Delete the sets completely\n",
    "A = {19, 22, 24, 20, 25, 26}\n",
    "B = {19, 22, 20, 25, 26, 24, 28, 27}\n",
    "del A,B"
   ]
  },
  {
   "cell_type": "code",
   "execution_count": 37,
   "id": "056bc3b7-bcde-4856-8551-98706ea3296c",
   "metadata": {},
   "outputs": [
    {
     "name": "stdout",
     "output_type": "stream",
     "text": [
      "{19, 22, 24, 25, 26}\n",
      "8\n",
      "5\n",
      "The list is bigger.\n"
     ]
    }
   ],
   "source": [
    "# 13. Convert the ages to a set and compare the length of the list and the set, which one is bigger?\n",
    "age = [22, 19, 24, 25, 26, 24, 25, 24]\n",
    "#conver list into set\n",
    "age_set = set(age)\n",
    "print(age_set)\n",
    "length_of_list = len(age)\n",
    "length_of_set = len(age_set)\n",
    "print(length_of_list)\n",
    "print(length_of_set)\n",
    "#which one is bigger\n",
    "if length_of_list > length_of_set:\n",
    "    print(\"The list is bigger.\")\n",
    "elif length_of_list < length_of_set:\n",
    "    print(\"The set is bigger.\")\n",
    "else:\n",
    "    print(\"Both have the same length.\")\n"
   ]
  },
  {
   "cell_type": "code",
   "execution_count": null,
   "id": "b562a09d-6c20-4f93-9711-0691f317c386",
   "metadata": {},
   "outputs": [],
   "source": [
    "# 14. Explain the difference between the following data types: string, list, tuple and set\n",
    "string: Strings are immuatble once created thier content cannot change.\n",
    "list: list is muttable and odererd function.\n",
    "tuple: Tuple is odererd function and its immutable.\n",
    "set: A set is an unoderderd collection of items, no dupplication allow and set is muttable.\n"
   ]
  },
  {
   "cell_type": "code",
   "execution_count": null,
   "id": "a195540e-1153-4ec0-91bc-3c7100e334cb",
   "metadata": {},
   "outputs": [],
   "source": []
  }
 ],
 "metadata": {
  "kernelspec": {
   "display_name": "Python 3 (ipykernel)",
   "language": "python",
   "name": "python3"
  },
  "language_info": {
   "codemirror_mode": {
    "name": "ipython",
    "version": 3
   },
   "file_extension": ".py",
   "mimetype": "text/x-python",
   "name": "python",
   "nbconvert_exporter": "python",
   "pygments_lexer": "ipython3",
   "version": "3.12.4"
  }
 },
 "nbformat": 4,
 "nbformat_minor": 5
}
