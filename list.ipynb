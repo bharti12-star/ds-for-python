{
 "cells": [
  {
   "cell_type": "code",
   "execution_count": 5,
   "id": "563799cf-1d9f-408e-b4bb-5a2c83f577b9",
   "metadata": {},
   "outputs": [
    {
     "data": {
      "text/plain": [
       "tuple"
      ]
     },
     "execution_count": 5,
     "metadata": {},
     "output_type": "execute_result"
    }
   ],
   "source": [
    "name = \"bharti aasudani\",\"bhomika\"\n",
    "name\n",
    "type(name)"
   ]
  },
  {
   "cell_type": "code",
   "execution_count": 11,
   "id": "83c1dbc3-bf9f-4898-a004-494139a38f70",
   "metadata": {},
   "outputs": [
    {
     "data": {
      "text/plain": [
       "list"
      ]
     },
     "execution_count": 11,
     "metadata": {},
     "output_type": "execute_result"
    }
   ],
   "source": [
    "fruit = []\n",
    "type(fruit)\n"
   ]
  },
  {
   "cell_type": "code",
   "execution_count": 15,
   "id": "33aee4d3-573f-40d4-887b-39d9738012bd",
   "metadata": {},
   "outputs": [
    {
     "name": "stdout",
     "output_type": "stream",
     "text": [
      "['apple']\n"
     ]
    }
   ],
   "source": [
    "fruit.append(\"apple\")\n",
    "print(fruiat)"
   ]
  },
  {
   "cell_type": "code",
   "execution_count": 19,
   "id": "a714094b-a0b2-4ea8-9817-deaf2fb33392",
   "metadata": {},
   "outputs": [
    {
     "name": "stdout",
     "output_type": "stream",
     "text": [
      "['mangoo', 'banana', 'avacoda', 'berry']\n",
      "<class 'list'>\n"
     ]
    }
   ],
   "source": [
    "fruits = [\"mangoo\",\"banana\",\"avacoda\",\"berry\"]\n",
    "print(fruits)\n",
    "print(type(fruits))"
   ]
  },
  {
   "cell_type": "code",
   "execution_count": 21,
   "id": "ea3f6cc6-ab68-4180-a99f-632b4247d49a",
   "metadata": {},
   "outputs": [
    {
     "name": "stdout",
     "output_type": "stream",
     "text": [
      "['mangoo', 'banana', 'avacoda', 'berry', 'dragon fruit']\n"
     ]
    }
   ],
   "source": [
    "fruits.append(\"dragon fruit\")\n",
    "print(fruits)"
   ]
  },
  {
   "cell_type": "code",
   "execution_count": null,
   "id": "d4a100eb-c457-411e-9cb9-bf8e7c3f8cfa",
   "metadata": {},
   "outputs": [],
   "source": [
    " fruits.insert(1,\"apticot\")\n",
    "pr"
   ]
  }
 ],
 "metadata": {
  "kernelspec": {
   "display_name": "Python 3 (ipykernel)",
   "language": "python",
   "name": "python3"
  },
  "language_info": {
   "codemirror_mode": {
    "name": "ipython",
    "version": 3
   },
   "file_extension": ".py",
   "mimetype": "text/x-python",
   "name": "python",
   "nbconvert_exporter": "python",
   "pygments_lexer": "ipython3",
   "version": "3.12.4"
  }
 },
 "nbformat": 4,
 "nbformat_minor": 5
}
