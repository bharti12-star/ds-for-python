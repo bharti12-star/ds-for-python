{
 "cells": [
  {
   "cell_type": "code",
   "execution_count": 1,
   "id": "61f8ff48-73e3-4bca-ad4d-2cfddde0daf7",
   "metadata": {},
   "outputs": [
    {
     "name": "stdout",
     "output_type": "stream",
     "text": [
      "5\n",
      "6\n",
      "5\n"
     ]
    }
   ],
   "source": [
    "#Scope of a variable\n",
    "def g(y):\n",
    "    print(x)\n",
    "    print(x+1)\n",
    "x=5\n",
    "g(x)\n",
    "print(x)"
   ]
  },
  {
   "cell_type": "code",
   "execution_count": 5,
   "id": "db3634aa-d38f-4e48-a417-24a05d547e24",
   "metadata": {},
   "outputs": [
    {
     "name": "stdout",
     "output_type": "stream",
     "text": [
      "2\n",
      "5\n"
     ]
    }
   ],
   "source": [
    "def f(y):\n",
    "    x=1\n",
    "    x +=1\n",
    "    print(x)\n",
    "x=5\n",
    "f(x)\n",
    "print(x)"
   ]
  },
  {
   "cell_type": "code",
   "execution_count": 11,
   "id": "5dd2f509-1fc5-4ac9-9df9-eb45fc151cbb",
   "metadata": {},
   "outputs": [
    {
     "name": "stdout",
     "output_type": "stream",
     "text": [
      "2\n",
      "5\n"
     ]
    }
   ],
   "source": [
    "def f(y):\n",
    "    y=1\n",
    "    y+=1\n",
    "    print(y)\n",
    "x=5\n",
    "f(x)\n",
    "print(x)"
   ]
  },
  {
   "cell_type": "code",
   "execution_count": 19,
   "id": "1f6b21c2-2784-497e-82d9-7a855bf17a4d",
   "metadata": {},
   "outputs": [
    {
     "name": "stdout",
     "output_type": "stream",
     "text": [
      "5\n"
     ]
    }
   ],
   "source": [
    "def h(x):\n",
    "    x +=1\n",
    "x = 5\n",
    "h(x)\n",
    "print(x)"
   ]
  },
  {
   "cell_type": "code",
   "execution_count": 21,
   "id": "d4cbd302-c376-4c08-96dd-3b24d511545d",
   "metadata": {},
   "outputs": [
    {
     "name": "stdout",
     "output_type": "stream",
     "text": [
      "in f(x): x = 4\n",
      "in main program scope: z = 4\n",
      "in main program scope: x = 3\n"
     ]
    }
   ],
   "source": [
    "def f(x):\n",
    "    x = x +1\n",
    "    print(\"in f(x): x =\",x)\n",
    "    return x\n",
    "x = 3\n",
    "z = f(x)\n",
    "print(\"in main program scope: z =\",z)\n",
    "print(\"in main program scope: x =\",x)"
   ]
  },
  {
   "cell_type": "code",
   "execution_count": 23,
   "id": "89a215a0-74d2-494a-92e3-659c822314cf",
   "metadata": {},
   "outputs": [
    {
     "name": "stdout",
     "output_type": "stream",
     "text": [
      "hello from outer function\n",
      "hello from inner function\n"
     ]
    }
   ],
   "source": [
    "def function1(): # outer function\n",
    "    print(\"hello from outer function\")\n",
    "    def function2(): # inner function\n",
    "        print(\"hello from inner function\")\n",
    "    function2()\n",
    "function1()"
   ]
  },
  {
   "cell_type": "code",
   "execution_count": 27,
   "id": "1737197a-95fb-4260-911a-a3de35917ff0",
   "metadata": {},
   "outputs": [
    {
     "name": "stdout",
     "output_type": "stream",
     "text": [
      "<function num1.<locals>.num2 at 0x0000027CB7E098A0>\n",
      "50\n"
     ]
    }
   ],
   "source": [
    "def num1(x):\n",
    "    def num2(y):\n",
    "        return x * y\n",
    "    return num2\n",
    "res = num1(10)\n",
    "print(res)\n",
    "print(res(5))"
   ]
  },
  {
   "cell_type": "code",
   "execution_count": 32,
   "id": "d52b9ca5-9c6a-484a-b776-495f4683b66f",
   "metadata": {},
   "outputs": [
    {
     "name": "stdout",
     "output_type": "stream",
     "text": [
      "<function num1.<locals>.num2 at 0x0000027CB9B4ECA0>\n"
     ]
    }
   ],
   "source": [
    "def num1(x):\n",
    "    def num2(y):\n",
    "        return x * y\n",
    "    return num2\n",
    "res = num1(10)\n",
    "print(res)"
   ]
  },
  {
   "cell_type": "code",
   "execution_count": 34,
   "id": "cee40d4c-f22e-47d8-8eca-ea4a1c9ba37b",
   "metadata": {},
   "outputs": [
    {
     "name": "stdout",
     "output_type": "stream",
     "text": [
      "<function num1.<locals>.num2 at 0x0000027CB9B4EFC0>\n",
      "8\n"
     ]
    }
   ],
   "source": [
    "def num1(x):\n",
    "  def num2(y):\n",
    "      def num3(z):\n",
    "    return x**y\n",
    "  return num2\n",
    "res = num1(2)\n",
    "print(res)\n",
    "print(res(3))"
   ]
  },
  {
   "cell_type": "code",
   "execution_count": 53,
   "id": "2de6975c-e1a0-4536-9e99-59ffeaa9076f",
   "metadata": {},
   "outputs": [
    {
     "ename": "NameError",
     "evalue": "name 'num3' is not defined",
     "output_type": "error",
     "traceback": [
      "\u001b[1;31m---------------------------------------------------------------------------\u001b[0m",
      "\u001b[1;31mNameError\u001b[0m                                 Traceback (most recent call last)",
      "Cell \u001b[1;32mIn[53], line 8\u001b[0m\n\u001b[0;32m      6\u001b[0m       \u001b[38;5;28;01mreturn\u001b[39;00m num2\n\u001b[0;32m      7\u001b[0m res \u001b[38;5;241m=\u001b[39m num1(\u001b[38;5;241m2\u001b[39m)\n\u001b[1;32m----> 8\u001b[0m res \u001b[38;5;241m=\u001b[39m num3(\u001b[38;5;241m3\u001b[39m)\n\u001b[0;32m      9\u001b[0m \u001b[38;5;28mprint\u001b[39m(res)\n\u001b[0;32m     10\u001b[0m \u001b[38;5;28mprint\u001b[39m(res(\u001b[38;5;241m3\u001b[39m))\n",
      "\u001b[1;31mNameError\u001b[0m: name 'num3' is not defined"
     ]
    }
   ],
   "source": [
    "def num1(x):\n",
    "  def num2(y):\n",
    "      def num3(z):\n",
    "          return x**y**z\n",
    "      return num3\n",
    "      return num2\n",
    "res = num1(2)\n",
    "res = num3(3)\n",
    "print(res)\n",
    "print(res(3))"
   ]
  },
  {
   "cell_type": "code",
   "execution_count": 51,
   "id": "e713e9a5-ebec-4225-9a4f-f50737d7b2b3",
   "metadata": {},
   "outputs": [
    {
     "name": "stdout",
     "output_type": "stream",
     "text": [
      "muhammad nihal iqbal\n"
     ]
    }
   ],
   "source": [
    "def first_name(name1):\n",
    "    def middle_name(name2):\n",
    "        def last_name(name3):\n",
    "            return name1+' '+name2+' '+name3\n",
    "        return last_name\n",
    "    return middle_name\n",
    "full_name = first_name(\"muhammad\")\n",
    "last_name = full_name(\"nihal\")\n",
    "print(last_name(\"iqbal\"))"
   ]
  },
  {
   "cell_type": "code",
   "execution_count": null,
   "id": "55abd7a0-6e28-4682-81d6-dee7373db570",
   "metadata": {},
   "outputs": [],
   "source": []
  },
  {
   "cell_type": "code",
   "execution_count": null,
   "id": "af83222d-d329-4360-ac64-5ee8a8cf2070",
   "metadata": {},
   "outputs": [],
   "source": []
  }
 ],
 "metadata": {
  "kernelspec": {
   "display_name": "Python 3 (ipykernel)",
   "language": "python",
   "name": "python3"
  },
  "language_info": {
   "codemirror_mode": {
    "name": "ipython",
    "version": 3
   },
   "file_extension": ".py",
   "mimetype": "text/x-python",
   "name": "python",
   "nbconvert_exporter": "python",
   "pygments_lexer": "ipython3",
   "version": "3.12.4"
  }
 },
 "nbformat": 4,
 "nbformat_minor": 5
}
