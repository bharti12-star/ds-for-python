{
 "cells": [
  {
   "cell_type": "code",
   "execution_count": 1,
   "id": "3ad8f09e-2ec1-4a21-98a6-6e2fba4e5923",
   "metadata": {},
   "outputs": [
    {
     "name": "stdout",
     "output_type": "stream",
     "text": [
      "<class 'set'>\n"
     ]
    }
   ],
   "source": [
    "#  set repestation {}\n",
    "s = set()\n",
    "print(type(s))"
   ]
  },
  {
   "cell_type": "code",
   "execution_count": 7,
   "id": "334c321a-2bbf-48cf-afb9-cd12da2ba3be",
   "metadata": {},
   "outputs": [
    {
     "data": {
      "text/plain": [
       "True"
      ]
     },
     "execution_count": 7,
     "metadata": {},
     "output_type": "execute_result"
    }
   ],
   "source": [
    "s1 = {1,2,3,4}\n",
    "s2 = {4,3,2,1}\n",
    "s1==s2"
   ]
  },
  {
   "cell_type": "code",
   "execution_count": 31,
   "id": "8fe4b8e0-6522-47d1-9890-a46144f54794",
   "metadata": {},
   "outputs": [
    {
     "name": "stdout",
     "output_type": "stream",
     "text": [
      "{1, 2.5, 'false', 'bharti'}\n"
     ]
    }
   ],
   "source": [
    "s = {1,\"bharti\",2.5,\"false\"}\n",
    "print(s)"
   ]
  },
  {
   "cell_type": "code",
   "execution_count": 29,
   "id": "5ac001ca-a422-4f93-a595-053d9a8dde4d",
   "metadata": {},
   "outputs": [
    {
     "name": "stdout",
     "output_type": "stream",
     "text": [
      "{1, 2, 3, 4, 5}\n"
     ]
    }
   ],
   "source": [
    "#add or update\n",
    "#add\n",
    "S = {1,2,3,4}\n",
    "S.add(5)\n",
    "print(S)"
   ]
  },
  {
   "cell_type": "code",
   "execution_count": 27,
   "id": "9f58351a-3348-40f9-8bb3-3b7471d7840f",
   "metadata": {},
   "outputs": [
    {
     "name": "stdout",
     "output_type": "stream",
     "text": [
      "{1, 2, 3, 4, 5, 6, 7}\n"
     ]
    }
   ],
   "source": [
    "S = {1,2,3,4}\n",
    "S.update([5,6,7])\n",
    "print(S)"
   ]
  },
  {
   "cell_type": "code",
   "execution_count": 35,
   "id": "ec12d6e4-4770-4db4-971a-86c26d83a405",
   "metadata": {},
   "outputs": [
    {
     "name": "stdout",
     "output_type": "stream",
     "text": [
      "{1, 2, 3, 4, 5, 6, 7}\n"
     ]
    }
   ],
   "source": [
    "S = {1,2,3,4}\n",
    "S.update({5,6,7})\n",
    "print(S)\n"
   ]
  },
  {
   "cell_type": "code",
   "execution_count": 37,
   "id": "dfd93593-5d1a-485a-91c6-fd857c7234d0",
   "metadata": {},
   "outputs": [
    {
     "name": "stdout",
     "output_type": "stream",
     "text": [
      "{2, 3, 4, 5, 6, 7}\n"
     ]
    }
   ],
   "source": [
    "S.pop()\n",
    "print(S)"
   ]
  },
  {
   "cell_type": "code",
   "execution_count": 39,
   "id": "7f81897f-ef79-4082-95dd-3825ce1ba3f4",
   "metadata": {},
   "outputs": [
    {
     "name": "stdout",
     "output_type": "stream",
     "text": [
      "{2, 3, 4, 5, 7}\n"
     ]
    }
   ],
   "source": [
    "S.discard(6)\n",
    "print(S)"
   ]
  },
  {
   "cell_type": "code",
   "execution_count": 43,
   "id": "409ae85c-e477-4ecd-a2f3-99a34c61b89e",
   "metadata": {},
   "outputs": [
    {
     "name": "stdout",
     "output_type": "stream",
     "text": [
      "set()\n"
     ]
    }
   ],
   "source": [
    "S.clear()\n",
    "print(S)"
   ]
  },
  {
   "cell_type": "code",
   "execution_count": 45,
   "id": "9e13fff9-2b2e-42b7-a64b-5e9f9c21921c",
   "metadata": {},
   "outputs": [
    {
     "name": "stdout",
     "output_type": "stream",
     "text": [
      "{3, 4, 5, 6, 7, 8, 11, 12}\n"
     ]
    }
   ],
   "source": [
    "# opration in set\n",
    "# union (|)\n",
    "# intersection (&)\n",
    "s3 ={5,6,7,8}\n",
    "s4= {3,4,6,11,12}\n",
    "print(s3|s4)\n",
    "\n"
   ]
  },
  {
   "cell_type": "code",
   "execution_count": 53,
   "id": "23909d7d-bf11-4d25-879c-e15adc88040b",
   "metadata": {},
   "outputs": [
    {
     "name": "stdout",
     "output_type": "stream",
     "text": [
      "{6}\n",
      "{11, 3, 4, 12}\n",
      "{8, 5, 7}\n"
     ]
    }
   ],
   "source": [
    "s3 ={5,6,7,8}\n",
    "s4= {3,4,6,11,12}\n",
    "print(s3&s4)\n",
    "# defraince\n",
    "print(s4-s3)\n",
    "print(s3-s4)"
   ]
  },
  {
   "cell_type": "code",
   "execution_count": 55,
   "id": "763979e0-4473-411a-8c53-d9342bd4073b",
   "metadata": {},
   "outputs": [
    {
     "name": "stdout",
     "output_type": "stream",
     "text": [
      "{3, 4, 5, 7, 8, 11, 12}\n"
     ]
    }
   ],
   "source": [
    "# symnetric differrance (^)\n",
    "s3 ={5,6,7,8}\n",
    "s4= {3,4,6,11,12}\n",
    "print(s3^s4)"
   ]
  },
  {
   "cell_type": "code",
   "execution_count": 63,
   "id": "1a916808-cd01-4389-b876-6aa0e8c0dc3f",
   "metadata": {},
   "outputs": [
    {
     "name": "stdout",
     "output_type": "stream",
     "text": [
      "6\n",
      "28\n",
      "1\n",
      "8\n"
     ]
    }
   ],
   "source": [
    "# len,sum,min,max,sorted\n",
    "s = {1,3,4,5,7,8}\n",
    "print(len(s))\n",
    "print(sum(s))\n",
    "print(min(s))\n",
    "print(max(s))\n",
    "      \n",
    "      "
   ]
  },
  {
   "cell_type": "code",
   "execution_count": null,
   "id": "566c6aa4-1631-43c0-8d72-2a2c63c9c8f8",
   "metadata": {},
   "outputs": [],
   "source": [
    "#issubset,issuperset,isdisjoint\n",
    "s1 = {1,2,8,9,7,6,5}\n",
    "s2 = {10,6,8,0,11,7}\n",
    "\n",
    "s2"
   ]
  },
  {
   "cell_type": "code",
   "execution_count": null,
   "id": "8a237bda-3365-4975-a863-76fe05af0f1a",
   "metadata": {},
   "outputs": [],
   "source": [
    "#create frozen set\n",
    "fs1 = frozenset([1,2,3,4])\n"
   ]
  }
 ],
 "metadata": {
  "kernelspec": {
   "display_name": "Python 3 (ipykernel)",
   "language": "python",
   "name": "python3"
  },
  "language_info": {
   "codemirror_mode": {
    "name": "ipython",
    "version": 3
   },
   "file_extension": ".py",
   "mimetype": "text/x-python",
   "name": "python",
   "nbconvert_exporter": "python",
   "pygments_lexer": "ipython3",
   "version": "3.12.4"
  }
 },
 "nbformat": 4,
 "nbformat_minor": 5
}
