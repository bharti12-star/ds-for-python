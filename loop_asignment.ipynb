{
  "nbformat": 4,
  "nbformat_minor": 0,
  "metadata": {
    "colab": {
      "provenance": []
    },
    "kernelspec": {
      "name": "python3",
      "display_name": "Python 3"
    },
    "language_info": {
      "name": "python"
    }
  },
  "cells": [
    {
      "cell_type": "code",
      "execution_count": 3,
      "metadata": {
        "colab": {
          "base_uri": "https://localhost:8080/"
        },
        "id": "9bOACSEtmZQy",
        "outputId": "ed6bf2f2-f6db-4445-a7f5-640f43839a28"
      },
      "outputs": [
        {
          "output_type": "stream",
          "name": "stdout",
          "text": [
            "1\n",
            "2\n",
            "3\n",
            "4\n",
            "5\n",
            "6\n",
            "7\n",
            "8\n",
            "9\n",
            "10\n"
          ]
        }
      ],
      "source": [
        "# 1. Write a Python program to print the numbers from 1 to 10 using a for loop.\n",
        "for i in range (1,11):\n",
        "  print(i)"
      ]
    },
    {
      "cell_type": "code",
      "source": [
        "# 2. Create a list containing the numbers 1 to 5. Then, using a for loop, print each element of the list.\n",
        "numbers = [1, 2, 3, 4, 5]\n",
        "\n",
        "for number in numbers:\n",
        "    print(number)"
      ],
      "metadata": {
        "colab": {
          "base_uri": "https://localhost:8080/"
        },
        "id": "WOjqKeLynEvN",
        "outputId": "2808fd67-c01c-4333-e5bc-64d5ae59eb35"
      },
      "execution_count": 4,
      "outputs": [
        {
          "output_type": "stream",
          "name": "stdout",
          "text": [
            "1\n",
            "2\n",
            "3\n",
            "4\n",
            "5\n"
          ]
        }
      ]
    },
    {
      "cell_type": "markdown",
      "source": [],
      "metadata": {
        "id": "grCCKbermiC7"
      }
    },
    {
      "cell_type": "code",
      "source": [
        "# 3. Write a program that takes a list of numbers and returns the sum of all the numbers in the list.\n",
        "list_of_numbers = [1,2,3,4,5,6]\n",
        "sum_of_numbers = sum(list_of_numbers)\n",
        "print(sum_of_numbers)"
      ],
      "metadata": {
        "colab": {
          "base_uri": "https://localhost:8080/"
        },
        "id": "MG01RVsvnaoV",
        "outputId": "823f4609-4191-48de-f3b0-e130110dc80d"
      },
      "execution_count": 5,
      "outputs": [
        {
          "output_type": "stream",
          "name": "stdout",
          "text": [
            "21\n"
          ]
        }
      ]
    },
    {
      "cell_type": "code",
      "source": [
        "# 4. Given a list of strings, write a program to concatenate all the strings into one.\n",
        "strings = ['hello','bharti','aasudani']\n",
        "concatenated_string = ''.join(strings)\n",
        "print('concatenated_string:',concatenated_string)"
      ],
      "metadata": {
        "colab": {
          "base_uri": "https://localhost:8080/"
        },
        "id": "pqryoISNoTG7",
        "outputId": "eddb2573-ff9d-4551-9f91-93a2a36cc4a8"
      },
      "execution_count": 7,
      "outputs": [
        {
          "output_type": "stream",
          "name": "stdout",
          "text": [
            "concatenated_string: hellobhartiaasudani\n"
          ]
        }
      ]
    },
    {
      "cell_type": "code",
      "source": [
        "# 5. Write a program that takes a list of numbers and returns the largest number in the list.\n",
        "list_of_numbers = [1,2,3,4,5,6]\n",
        "largest_number = max(list_of_numbers)\n",
        "print('largest_number:',largest_number)"
      ],
      "metadata": {
        "colab": {
          "base_uri": "https://localhost:8080/"
        },
        "id": "ycBFxG4ytfAF",
        "outputId": "b530515c-7198-41c9-f6a5-d1a291c9e556"
      },
      "execution_count": 8,
      "outputs": [
        {
          "output_type": "stream",
          "name": "stdout",
          "text": [
            "largest_number: 6\n"
          ]
        }
      ]
    },
    {
      "cell_type": "code",
      "source": [
        "# 6. Create a list containing the numbers 1 to 10. Using a for loop, square each number in the list and print the result.\n",
        "numbers = [1,2,3,4,5,6,7,8,9,10]\n",
        "for number in numbers:\n",
        "  print(number**2)"
      ],
      "metadata": {
        "colab": {
          "base_uri": "https://localhost:8080/"
        },
        "id": "ncwu7-ACuEa2",
        "outputId": "b32d5455-2bb8-46cd-d16f-dd291773542e"
      },
      "execution_count": 10,
      "outputs": [
        {
          "output_type": "stream",
          "name": "stdout",
          "text": [
            "1\n",
            "4\n",
            "9\n",
            "16\n",
            "25\n",
            "36\n",
            "49\n",
            "64\n",
            "81\n",
            "100\n"
          ]
        }
      ]
    },
    {
      "cell_type": "code",
      "source": [
        "# 7. Write a program that takes a list of numbers and returns a new list containing only the even numbers from the original list.\n",
        "numbers = [1,2,3,4,5,6,7,8,9,10]\n",
        "even_numbers = []\n",
        "for number in numbers:\n",
        "    if number % 2 == 0:\n",
        "        even_numbers.append(number)\n",
        "print(even_numbers)"
      ],
      "metadata": {
        "colab": {
          "base_uri": "https://localhost:8080/"
        },
        "id": "Zk85WbxDuzoz",
        "outputId": "ae73c575-e819-4a96-a1a1-b11478f69945"
      },
      "execution_count": 11,
      "outputs": [
        {
          "output_type": "stream",
          "name": "stdout",
          "text": [
            "[2, 4, 6, 8, 10]\n"
          ]
        }
      ]
    },
    {
      "cell_type": "code",
      "source": [
        "# 8. Given two lists of numbers, write a program to combine the lists element-wise (i.e., element-wise addition).\n",
        "list1 = [1,2,3,4,5,6,]\n",
        "list2 = [7,8,9,10,11,12]\n",
        "combined = [a + b for a, b in zip (list1,list2)]\n",
        "print(\"combined:\",combined)"
      ],
      "metadata": {
        "colab": {
          "base_uri": "https://localhost:8080/"
        },
        "id": "eYmBAYJtwENU",
        "outputId": "362d41fa-f050-4be4-cd80-e5143d13e024"
      },
      "execution_count": 13,
      "outputs": [
        {
          "output_type": "stream",
          "name": "stdout",
          "text": [
            "combined: [8, 10, 12, 14, 16, 18]\n"
          ]
        }
      ]
    },
    {
      "cell_type": "code",
      "source": [
        "# 9. Write a program that takes a list of strings and returns a new list containing the lengths of each string.\n",
        "strings = ['banana','apple','orange','watermelon']\n",
        "length_of_strings = []\n",
        "for i in strings:\n",
        "    length_of_strings.append(len(i))\n",
        "print(length_of_strings)"
      ],
      "metadata": {
        "colab": {
          "base_uri": "https://localhost:8080/"
        },
        "id": "5dn9oE0xxff3",
        "outputId": "1ebe2213-3975-47f5-c0a4-51cd46f3ecfc"
      },
      "execution_count": 14,
      "outputs": [
        {
          "output_type": "stream",
          "name": "stdout",
          "text": [
            "[6, 5, 6, 10]\n"
          ]
        }
      ]
    },
    {
      "cell_type": "code",
      "source": [
        "# 10. Create a list of numbers from 1 to 10. Using list slicing and a for loop, print every second element of the list.\n",
        "numbers = [1,2,3,4,5,6,7,8,9,10]\n",
        "for number in numbers[0::2]:\n",
        "    print(number)\n"
      ],
      "metadata": {
        "colab": {
          "base_uri": "https://localhost:8080/"
        },
        "id": "kGvKN9-RypX8",
        "outputId": "a3db9027-642a-4747-8736-5c1d8cb0632f"
      },
      "execution_count": 16,
      "outputs": [
        {
          "output_type": "stream",
          "name": "stdout",
          "text": [
            "1\n",
            "3\n",
            "5\n",
            "7\n",
            "9\n"
          ]
        }
      ]
    },
    {
      "cell_type": "code",
      "source": [],
      "metadata": {
        "id": "LQ7QIblXzJ71"
      },
      "execution_count": null,
      "outputs": []
    }
  ]
}