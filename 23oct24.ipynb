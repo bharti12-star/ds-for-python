{
 "cells": [
  {
   "cell_type": "code",
   "execution_count": 5,
   "id": "c7a4a34e-617a-4daa-bd73-2dcc4a776936",
   "metadata": {},
   "outputs": [
    {
     "name": "stdout",
     "output_type": "stream",
     "text": [
      "['apple', 'banana', 'peach', 'stawberry'] ['cow', 'goat', 'dog', 'cat'] [1, 2, 3, 4, 5, 6]\n"
     ]
    }
   ],
   "source": [
    "fruits = [\"apple\",\"banana\",\"peach\",\"stawberry\"]\n",
    "animals = [\"cow\",\"goat\",\"dog\",\"cat\"]\n",
    "numbers = [1,2,3,4,5,6]\n",
    "print(fruits,animals,numbers)\n"
   ]
  },
  {
   "cell_type": "code",
   "execution_count": 1,
   "id": "ce3808c7-ba37-40a5-969a-edd87cfa7a05",
   "metadata": {},
   "outputs": [
    {
     "name": "stdin",
     "output_type": "stream",
     "text": [
      "enter no of rows 5\n"
     ]
    },
    {
     "name": "stdout",
     "output_type": "stream",
     "text": [
      "1\n",
      "121\n",
      "12321\n",
      "1234321\n",
      "123454321\n"
     ]
    }
   ],
   "source": [
    "rows  = int(input(\"enter no of rows\"))\n",
    "for i in range(1,rows+1):\n",
    "    for j in range(1,i+1):\n",
    "        print(j,end='')\n",
    "    for k in range(i-1,0,-1):\n",
    "        print(k,end='')\n",
    "    print()    \n",
    "    "
   ]
  },
  {
   "cell_type": "markdown",
   "id": "fae822da-7d72-444a-91d3-7ae1c3913fdd",
   "metadata": {},
   "source": [
    "python function"
   ]
  },
  {
   "cell_type": "code",
   "execution_count": 21,
   "id": "65746fe4-7716-4959-9ebd-c03d44ace664",
   "metadata": {},
   "outputs": [],
   "source": [
    "def welcome():\n",
    "    print(\"good morning ali, have a nice day\")\n"
   ]
  },
  {
   "cell_type": "code",
   "execution_count": 23,
   "id": "7a00b2a5-6daf-4a54-9cea-c63e063ec56b",
   "metadata": {},
   "outputs": [
    {
     "name": "stdout",
     "output_type": "stream",
     "text": [
      "good morning ali, have a nice day\n"
     ]
    }
   ],
   "source": [
    "welcome()"
   ]
  },
  {
   "cell_type": "code",
   "execution_count": 25,
   "id": "d3bc7072-e83e-4849-81b0-ec1afa2e221b",
   "metadata": {},
   "outputs": [
    {
     "name": "stdout",
     "output_type": "stream",
     "text": [
      "good morning  farooq  have a nice day\n"
     ]
    }
   ],
   "source": [
    "def welcome(name):\n",
    "    print(\"good morning \",name,\" have a nice day\")\n",
    "welcome(\"farooq\")    "
   ]
  },
  {
   "cell_type": "code",
   "execution_count": 29,
   "id": "df65ca7c-1534-42f3-9609-64c5ef38fd8a",
   "metadata": {},
   "outputs": [
    {
     "name": "stdin",
     "output_type": "stream",
     "text": [
      "enter your name rabab\n"
     ]
    },
    {
     "name": "stdout",
     "output_type": "stream",
     "text": [
      "good morning  rabab  have a nice day\n"
     ]
    }
   ],
   "source": [
    "def welcome(name):\n",
    "    print(\"good morning \",name,\" have a nice day\")\n",
    "name= input(\"enter your name:\")\n",
    "welcome(name)"
   ]
  },
  {
   "cell_type": "code",
   "execution_count": 41,
   "id": "e0dac66f-a2e4-4268-9aeb-c09edfd21d02",
   "metadata": {},
   "outputs": [
    {
     "data": {
      "text/plain": [
       "15"
      ]
     },
     "execution_count": 41,
     "metadata": {},
     "output_type": "execute_result"
    }
   ],
   "source": [
    "def add(number1,number2):\n",
    "    return number1+number2\n",
    "add(7,8)    "
   ]
  },
  {
   "cell_type": "code",
   "execution_count": 49,
   "id": "bf128d93-305c-4888-8976-753b8bda7722",
   "metadata": {},
   "outputs": [
    {
     "name": "stdin",
     "output_type": "stream",
     "text": [
      "enter the num you want to check 8\n"
     ]
    },
    {
     "name": "stdout",
     "output_type": "stream",
     "text": [
      "num is even 8\n"
     ]
    }
   ],
   "source": [
    "def num_even(num):\n",
    "    if num%2==0:\n",
    "        print(\"num is even\",num)\n",
    "    else:\n",
    "        print(\"num is odd\",)\n",
    "num = int(input(\"enter the num you want to check\")) \n",
    "num_even(num)          \n",
    "          \n",
    "    "
   ]
  },
  {
   "cell_type": "code",
   "execution_count": 61,
   "id": "eac7d747-3b16-4ef2-b290-ede7bb6b5bea",
   "metadata": {},
   "outputs": [
    {
     "name": "stdin",
     "output_type": "stream",
     "text": [
      "enter radius of a circle: 10\n"
     ]
    },
    {
     "data": {
      "text/plain": [
       "(314.2, 62.839999999999996)"
      ]
     },
     "execution_count": 61,
     "metadata": {},
     "output_type": "execute_result"
    }
   ],
   "source": [
    "def area_and_circumference_of_circle(r):\n",
    "    pi = 3.142\n",
    "    area =pi*r**2\n",
    "    circumference = 2*pi*r\n",
    "    return(area,circumference)\n",
    "radius = float(input(\"enter radius of a circle:\"))\n",
    "area_and_circumference_of_circle(radius)\n"
   ]
  },
  {
   "cell_type": "code",
   "execution_count": 1,
   "id": "95430ff2-f090-41f4-b2f4-9907c81c9ed1",
   "metadata": {},
   "outputs": [
    {
     "name": "stdout",
     "output_type": "stream",
     "text": [
      "1\n",
      "2\n",
      "3\n",
      "4\n",
      "5\n",
      "6\n",
      "7\n",
      "8\n",
      "9\n",
      "10\n"
     ]
    }
   ],
   "source": [
    "for i in range(1, 11):\n",
    "    print(i)\n"
   ]
  },
  {
   "cell_type": "code",
   "execution_count": null,
   "id": "b39d9d9e-e856-40b4-882e-590bf2980e96",
   "metadata": {},
   "outputs": [],
   "source": []
  }
 ],
 "metadata": {
  "kernelspec": {
   "display_name": "Python 3 (ipykernel)",
   "language": "python",
   "name": "python3"
  },
  "language_info": {
   "codemirror_mode": {
    "name": "ipython",
    "version": 3
   },
   "file_extension": ".py",
   "mimetype": "text/x-python",
   "name": "python",
   "nbconvert_exporter": "python",
   "pygments_lexer": "ipython3",
   "version": "3.12.4"
  }
 },
 "nbformat": 4,
 "nbformat_minor": 5
}
