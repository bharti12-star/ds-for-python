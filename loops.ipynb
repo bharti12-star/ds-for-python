{
 "cells": [
  {
   "cell_type": "code",
   "execution_count": null,
   "id": "5d435c65-8d9e-4463-96d9-6adcfea48624",
   "metadata": {},
   "outputs": [],
   "source": [
    "# loops\n",
    "#repeats a block of code multiple times, based on certain conditions.\n",
    "#where trying to autmate any task or job"
   ]
  },
  {
   "cell_type": "code",
   "execution_count": 24,
   "id": "07082a44-c221-4916-8ea5-67f8258fc1df",
   "metadata": {},
   "outputs": [
    {
     "name": "stdin",
     "output_type": "stream",
     "text": [
      "guess the number 22\n"
     ]
    },
    {
     "name": "stdout",
     "output_type": "stream",
     "text": [
      "guess higher\n"
     ]
    },
    {
     "name": "stdin",
     "output_type": "stream",
     "text": [
      "guess the number 30\n"
     ]
    },
    {
     "name": "stdout",
     "output_type": "stream",
     "text": [
      "guess higher\n"
     ]
    },
    {
     "name": "stdin",
     "output_type": "stream",
     "text": [
      "guess the number 35\n"
     ]
    },
    {
     "name": "stdout",
     "output_type": "stream",
     "text": [
      "guess lower\n"
     ]
    },
    {
     "name": "stdin",
     "output_type": "stream",
     "text": [
      "guess the number 32\n"
     ]
    },
    {
     "name": "stdout",
     "output_type": "stream",
     "text": [
      "guess higher\n"
     ]
    },
    {
     "name": "stdin",
     "output_type": "stream",
     "text": [
      "guess the number 33\n"
     ]
    },
    {
     "name": "stdout",
     "output_type": "stream",
     "text": [
      "correct guess\n"
     ]
    }
   ],
   "source": [
    "#guess game\n",
    "import random\n",
    "jackpot = random.randint(1,100)\n",
    "guess_num = int(input(\"guess the number\"))\n",
    "counter = 1\n",
    "while guess_num!=jackpot:\n",
    "    if guess_num<jackpot:\n",
    "        print(\"guess higher\")\n",
    "    else:\n",
    "        print(\"guess lower\")\n",
    "    guess_num = int(input(\"guess the number\"))\n",
    "    counter=counter+1\n",
    "else:    \n",
    "   print(\"correct guess\")         "
   ]
  },
  {
   "cell_type": "code",
   "execution_count": 28,
   "id": "92fbcd47-d4e7-49c5-84a7-c84862f5350c",
   "metadata": {},
   "outputs": [
    {
     "name": "stdout",
     "output_type": "stream",
     "text": [
      "apple\n",
      "cherry\n",
      "banana\n"
     ]
    }
   ],
   "source": [
    "fruits =[\"apple\",\"cherry\",\"banana\"]\n",
    "for num in fruits:\n",
    "    print(num)\n"
   ]
  },
  {
   "cell_type": "code",
   "execution_count": 30,
   "id": "5b9e1227-3457-4ef0-a113-e5e976d7244c",
   "metadata": {},
   "outputs": [
    {
     "name": "stdout",
     "output_type": "stream",
     "text": [
      "brand\n",
      "model\n",
      "year\n"
     ]
    }
   ],
   "source": [
    "dict={\"brand\": \"Ford\",\"model\": \"Mustang\",\"year\": 1964}\n",
    "for num in dict:\n",
    "    print(num)"
   ]
  },
  {
   "cell_type": "code",
   "execution_count": 32,
   "id": "624faf3c-2cc5-4a87-bba7-91571483a2fb",
   "metadata": {},
   "outputs": [
    {
     "name": "stdout",
     "output_type": "stream",
     "text": [
      "brand {'brand': 'Ford', 'model': 'Mustang', 'year': 1964} ['brand']\n",
      "model {'brand': 'Ford', 'model': 'Mustang', 'year': 1964} ['model']\n",
      "year {'brand': 'Ford', 'model': 'Mustang', 'year': 1964} ['year']\n"
     ]
    }
   ],
   "source": [
    "dict={\"brand\": \"Ford\",\"model\": \"Mustang\",\"year\": 1964}\n",
    "for items in dict:\n",
    "    print(items,dict,[items])"
   ]
  },
  {
   "cell_type": "code",
   "execution_count": 44,
   "id": "3bfce837-9e69-488e-af70-699508af5574",
   "metadata": {},
   "outputs": [
    {
     "name": "stdout",
     "output_type": "stream",
     "text": [
      "10 year ago: 10000\n",
      "9 year ago: 9091\n",
      "8 year ago: 8265\n",
      "7 year ago: 7514\n",
      "6 year ago: 6831\n",
      "5 year ago: 6210\n",
      "4 year ago: 5645\n",
      "3 year ago: 5132\n",
      "2 year ago: 4665\n",
      "1 year ago: 4241\n"
     ]
    }
   ],
   "source": [
    "#Program - The current population of a town is 10000. The population of the town is increasing at the rate of 10% per year. You have to write a program to find out the population at the end of each of the last 10 years.\n",
    "current_population = 10000\n",
    "for year in range(10,0,-1):\n",
    "    print(year,\"year ago:\",current_population)\n",
    "    current_population = round(current_population/1.1)\n",
    "    \n",
    "\n",
    "\n",
    "\n"
   ]
  },
  {
   "cell_type": "code",
   "execution_count": 46,
   "id": "e31f5c9b-9841-45e7-aba1-b0845fa18fd0",
   "metadata": {},
   "outputs": [
    {
     "name": "stdin",
     "output_type": "stream",
     "text": [
      "enter no of rows for pattern 5\n"
     ]
    },
    {
     "name": "stdout",
     "output_type": "stream",
     "text": [
      "*\n",
      "*\n",
      "*\n",
      "*\n",
      "*\n"
     ]
    }
   ],
   "source": [
    "#nested loop\n",
    "#pattern 1\n",
    "# *\n",
    "# **\n",
    "# ***\n",
    "# ****\n",
    "rows = int(input(\"enter no of rows for pattern\"))\n",
    "for i in range (1,rows+1):\n",
    "    print('*')\n",
    "           "
   ]
  },
  {
   "cell_type": "code",
   "execution_count": 61,
   "id": "2ccdbf32-7cdb-4d83-a761-487d13f24694",
   "metadata": {},
   "outputs": [
    {
     "ename": "SyntaxError",
     "evalue": "invalid syntax (1265257220.py, line 2)",
     "output_type": "error",
     "traceback": [
      "\u001b[1;36m  Cell \u001b[1;32mIn[61], line 2\u001b[1;36m\u001b[0m\n\u001b[1;33m    for i range(rows,0,-1):\u001b[0m\n\u001b[1;37m          ^\u001b[0m\n\u001b[1;31mSyntaxError\u001b[0m\u001b[1;31m:\u001b[0m invalid syntax\n"
     ]
    }
   ],
   "source": [
    "rows = int(input(\"enter no of rowsfor pattern\"))\n",
    "for i range(rows,0,-1):  \n",
    "   for j in range(i,0,-1):\n",
    "    print('*',end='')\n",
    "   print()"
   ]
  },
  {
   "cell_type": "code",
   "execution_count": null,
   "id": "42ab83d9-3347-455b-9668-70b9f1edd53a",
   "metadata": {},
   "outputs": [],
   "source": []
  }
 ],
 "metadata": {
  "kernelspec": {
   "display_name": "Python 3 (ipykernel)",
   "language": "python",
   "name": "python3"
  },
  "language_info": {
   "codemirror_mode": {
    "name": "ipython",
    "version": 3
   },
   "file_extension": ".py",
   "mimetype": "text/x-python",
   "name": "python",
   "nbconvert_exporter": "python",
   "pygments_lexer": "ipython3",
   "version": "3.12.4"
  }
 },
 "nbformat": 4,
 "nbformat_minor": 5
}
