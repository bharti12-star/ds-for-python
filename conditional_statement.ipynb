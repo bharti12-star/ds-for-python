{
  "nbformat": 4,
  "nbformat_minor": 0,
  "metadata": {
    "colab": {
      "provenance": []
    },
    "kernelspec": {
      "name": "python3",
      "display_name": "Python 3"
    },
    "language_info": {
      "name": "python"
    }
  },
  "cells": [
    {
      "cell_type": "code",
      "execution_count": 1,
      "metadata": {
        "colab": {
          "base_uri": "https://localhost:8080/"
        },
        "id": "565ONdF6TzbW",
        "outputId": "93bb4967-70e1-4c00-ebd8-0e26b8db04ea"
      },
      "outputs": [
        {
          "output_type": "stream",
          "name": "stdout",
          "text": [
            "enter the number:9\n",
            "the number is not divisible by 3\n"
          ]
        }
      ],
      "source": [
        "# Q1. Write a program to check whether the given input number is divisible by 3 or else show a message “Number is not divisible by 3”.\n",
        "num = int(input(\"enter the number:\"))\n",
        "if num % 3 == 3:\n",
        "  print(\"the number is divisible by 3\")\n",
        "else:\n",
        "  print(\"the number is not divisible by 3\")\n"
      ]
    },
    {
      "cell_type": "code",
      "source": [
        "# Q2. Write a program that checks whether the given input is an even number or an odd number.\n",
        "num  = int(input(\"enter the number:\"))\n",
        "if num % 2 == 0:\n",
        "  print(\"the number is even\")\n",
        "else:\n",
        "  print(\"the number is odd\")\n"
      ],
      "metadata": {
        "colab": {
          "base_uri": "https://localhost:8080/"
        },
        "id": "JU9TJ4uNVdiv",
        "outputId": "31ecea6e-f73c-4f1e-915b-848fee2354a6"
      },
      "execution_count": 2,
      "outputs": [
        {
          "output_type": "stream",
          "name": "stdout",
          "text": [
            "enter the number:17\n",
            "the number is odd\n"
          ]
        }
      ]
    },
    {
      "cell_type": "code",
      "source": [
        "# Q3. Write an if/else statement with the following condition:If the variable age is greater than 18, output \"Old enough\", otherwise output \"Too young\".\n",
        "age = int(input(\"enter the age:\"))\n",
        "if age > 18:\n",
        "  print(\"old enough\")\n",
        "else:\n",
        "  print(\"too young\")"
      ],
      "metadata": {
        "colab": {
          "base_uri": "https://localhost:8080/"
        },
        "id": "ZfaLZ3RDWzsy",
        "outputId": "0783daf7-7470-4475-9add-829953d9fce0"
      },
      "execution_count": 4,
      "outputs": [
        {
          "output_type": "stream",
          "name": "stdout",
          "text": [
            "enter the age:20\n",
            "old enough\n"
          ]
        }
      ]
    },
    {
      "cell_type": "code",
      "source": [
        "# Q4. Write a program that prompts the user for their name, and then displays a special greeting to that person if their name is the same as yours. If the name entered by the\n",
        "#user is anything other than your name, your code should not produce any output.\n",
        "my_name = \"Bharti\"\n",
        "user_name = input(\"enter your name:\")\n",
        "if user_name == my_name:\n",
        "  print(\"hello,Bharti!\")"
      ],
      "metadata": {
        "colab": {
          "base_uri": "https://localhost:8080/"
        },
        "id": "gi6e25tEX1V4",
        "outputId": "366894b0-825d-4ad4-e114-c397a2d223b0"
      },
      "execution_count": 5,
      "outputs": [
        {
          "output_type": "stream",
          "name": "stdout",
          "text": [
            "enter your name:Bharti\n",
            "hello,Bharti!\n"
          ]
        }
      ]
    },
    {
      "cell_type": "code",
      "source": [
        "# Q5. Write a program that takes a calendar year in YYYY format in a variable. Check & notify the user whether it is a leap year or not.\n",
        "year = int(input(\"enter the year:\"))\n",
        "if year % 4 == 0:\n",
        "  print(\"it is a loop year\")\n",
        "else:\n",
        "  print(\"it is not a loop year\")"
      ],
      "metadata": {
        "colab": {
          "base_uri": "https://localhost:8080/"
        },
        "id": "6R-Sr8TtZMe3",
        "outputId": "f46838af-1917-4ba3-bb26-1062ad8e1b45"
      },
      "execution_count": 7,
      "outputs": [
        {
          "output_type": "stream",
          "name": "stdout",
          "text": [
            "enter the year:2024\n",
            "it is a loop year\n"
          ]
        }
      ]
    },
    {
      "cell_type": "code",
      "source": [
        "# Q6. Write a JavaScript program that accept two integers and display the larger. Also show if the two integers are equal.\n",
        "num1 = int(input(\"enter the first number:\"))\n",
        "num2 = int(input(\"enter the second number:\"))\n",
        "if num1 > num2:\n",
        "  print(\"the first number is larger\")\n",
        "elif num2 > num1:\n",
        "  print(\"the second number is larger\")\n",
        "else:\n",
        "  print(\"the two numbers are equal\")\n",
        ""
      ],
      "metadata": {
        "colab": {
          "base_uri": "https://localhost:8080/"
        },
        "id": "-EHMXE-0Z-th",
        "outputId": "887bcd95-7aff-4c23-9a79-f665f260300c"
      },
      "execution_count": 9,
      "outputs": [
        {
          "output_type": "stream",
          "name": "stdout",
          "text": [
            "enter the first number:29\n",
            "enter the second number:29\n",
            "the two numbers are equal\n"
          ]
        }
      ]
    },
    {
      "cell_type": "code",
      "source": [
        "# Q7. Write a program that takes input a number from user & state whether the number is positive, negstive or zero.\n",
        "num = float(input(\"enter the number:\"))\n",
        "if num > 0:\n",
        "  print(\"the number is positive\")\n",
        "elif num < 0:\n",
        "  print(\"the number is negative\")\n",
        "else:\n",
        "  print(\"the number is zero\")\n"
      ],
      "metadata": {
        "colab": {
          "base_uri": "https://localhost:8080/"
        },
        "id": "9gGpxFP5bujT",
        "outputId": "e73465c8-6041-4634-889e-e901a15cadaf"
      },
      "execution_count": 10,
      "outputs": [
        {
          "output_type": "stream",
          "name": "stdout",
          "text": [
            "enter the number:-9\n",
            "the number is negative\n"
          ]
        }
      ]
    },
    {
      "cell_type": "code",
      "source": [
        "# Q8. Write a program that takes a character (i.e. string of length 1) and returns true if it is a vowel, false otherwise.\n",
        "character = input(\"enter the character:\")\n",
        "if character in \"aeiou\":\n",
        "  print(\"true it is vowels\")\n",
        "else:\n",
        "  print(\"false it is not vowels\")"
      ],
      "metadata": {
        "colab": {
          "base_uri": "https://localhost:8080/"
        },
        "id": "YRQiSWZKd24x",
        "outputId": "2b874ecc-f507-4c3a-9afc-8bd74662ae25"
      },
      "execution_count": 11,
      "outputs": [
        {
          "output_type": "stream",
          "name": "stdout",
          "text": [
            "enter the character:u\n",
            "true it is vowels\n"
          ]
        }
      ]
    },
    {
      "cell_type": "code",
      "source": [
        "# Q9. Use a conditional (ternary) operator for this exercise:\n",
        "#If the variable age is a value below 18, the value of the variable voteable should be\n",
        "#\"Too young\", otherwise the value of voteable should be \"Old enough\".\n",
        "age = int(input(\"enter the age:\"))\n",
        "voteable = \"too young\" if age < 18 else \"old enough\"\n",
        "print(voteable)\n"
      ],
      "metadata": {
        "colab": {
          "base_uri": "https://localhost:8080/"
        },
        "id": "b0zejhgBe9wl",
        "outputId": "b02bba46-83a4-4fc2-f75c-6b923223ec04"
      },
      "execution_count": 13,
      "outputs": [
        {
          "output_type": "stream",
          "name": "stdout",
          "text": [
            "enter the age:17\n",
            "too young\n"
          ]
        }
      ]
    },
    {
      "cell_type": "code",
      "source": [
        "# Q10. Write a program that\n",
        "# a) Store correct password in a variable.\n",
        "correct_password = \"mywish45\"\n",
        "# b) Asks user to enter his/her password\n",
        "user_password = input(\"please enter the password:\")\n",
        "# c) Validate the two passwords:\n",
        "if not user_password:\n",
        "  print(\"please enter the password:\")\n",
        "elif user_password == correct_password:\n",
        "  print(\"correct_password\")\n",
        "else:\n",
        "  print(\"incorect_password\")"
      ],
      "metadata": {
        "colab": {
          "base_uri": "https://localhost:8080/"
        },
        "id": "Js6vhpKTgMi3",
        "outputId": "fb4b0db3-fba7-4d10-96d6-6ab6fe80188f"
      },
      "execution_count": 19,
      "outputs": [
        {
          "output_type": "stream",
          "name": "stdout",
          "text": [
            "please enter the password:mywish56\n",
            "incorect_password\n"
          ]
        }
      ]
    },
    {
      "cell_type": "code",
      "source": [
        "# Q11. Write a program that takes time as input from user in 24 hours clock format like: 1900 = 7pm. Implement the following case using if, else & else if statements.\n",
        "time = int(input(\"enter time:\"))\n",
        "if time >= 0 and time < 1200:\n",
        "  print(\"good morning\")\n",
        "elif time >= 1200 and time < 1700:\n",
        "  print(\"good afternoon\")\n",
        "elif time >= 1700 and time < 2100:\n",
        "  print(\"good evening\")\n",
        "else:\n",
        "  print(\"good night\")\n"
      ],
      "metadata": {
        "colab": {
          "base_uri": "https://localhost:8080/"
        },
        "id": "9RoBKg9Gibon",
        "outputId": "b7b46f22-6a2b-40c1-abda-b9e966fe321e"
      },
      "execution_count": 1,
      "outputs": [
        {
          "output_type": "stream",
          "name": "stdout",
          "text": [
            "enter time:1900\n",
            "good evening\n"
          ]
        }
      ]
    },
    {
      "cell_type": "code",
      "source": [],
      "metadata": {
        "id": "ozebcphTunpk"
      },
      "execution_count": null,
      "outputs": []
    }
  ]
}