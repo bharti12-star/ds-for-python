{
 "cells": [
  {
   "cell_type": "code",
   "execution_count": 11,
   "id": "bf8bb4ab-cbfb-4810-b6ee-f2e5fc2de885",
   "metadata": {},
   "outputs": [
    {
     "name": "stdout",
     "output_type": "stream",
     "text": [
      "{'name': 'bharti', 'gender': 'female', 'skills': ['data science', ' python', 'excel'], 'age': '23'}\n",
      "<class 'dict'>\n"
     ]
    }
   ],
   "source": [
    "person = {'name': 'bharti','gender':'female','skills':['data science',' python', 'excel'],'age':'23'}\n",
    "print(person)\n",
    "print(type(person))"
   ]
  },
  {
   "cell_type": "code",
   "execution_count": 17,
   "id": "6f61add0-f97e-497f-a790-b59faafc0eae",
   "metadata": {},
   "outputs": [
    {
     "data": {
      "text/plain": [
       "dict_values(['bharti', 'female', ['data science', ' python', 'excel'], '23'])"
      ]
     },
     "execution_count": 17,
     "metadata": {},
     "output_type": "execute_result"
    }
   ],
   "source": [
    "#value in your dictionary\n",
    "person.values()"
   ]
  },
  {
   "cell_type": "code",
   "execution_count": 21,
   "id": "4e19ec15-233b-43c9-8bc8-29b88975207c",
   "metadata": {},
   "outputs": [
    {
     "data": {
      "text/plain": [
       "dict_keys(['name', 'gender', 'skills', 'age'])"
      ]
     },
     "execution_count": 21,
     "metadata": {},
     "output_type": "execute_result"
    }
   ],
   "source": [
    "#keys of a dictionay \n",
    "person.keys()"
   ]
  },
  {
   "cell_type": "code",
   "execution_count": 33,
   "id": "8d41bb6d-6f3a-4e7f-8f8f-e5eba4e87eaa",
   "metadata": {},
   "outputs": [
    {
     "name": "stdout",
     "output_type": "stream",
     "text": [
      "{'Name': 'bharti', 'Gender': 'female', 'Marks': {'java': 34, 'js': 65, 'python': 87}, 'Age': 23}\n",
      "<class 'dict'>\n"
     ]
    }
   ],
   "source": [
    "person1 = {'Name':'bharti',\n",
    "          'Gender':'female',\n",
    "           'Marks':{'java':34,'js':65,'python':87},\n",
    "           'Age':23}\n",
    "print(person1)\n",
    "print(type(person1))"
   ]
  },
  {
   "cell_type": "code",
   "execution_count": 35,
   "id": "4ed7d17b-4544-49df-870c-2a05e851df65",
   "metadata": {},
   "outputs": [
    {
     "name": "stdout",
     "output_type": "stream",
     "text": [
      "['__doc__', '__loader__', '__name__', '__package__', '__spec__', 'acos', 'acosh', 'asin', 'asinh', 'atan', 'atan2', 'atanh', 'cbrt', 'ceil', 'comb', 'copysign', 'cos', 'cosh', 'degrees', 'dist', 'e', 'erf', 'erfc', 'exp', 'exp2', 'expm1', 'fabs', 'factorial', 'floor', 'fmod', 'frexp', 'fsum', 'gamma', 'gcd', 'hypot', 'inf', 'isclose', 'isfinite', 'isinf', 'isnan', 'isqrt', 'lcm', 'ldexp', 'lgamma', 'log', 'log10', 'log1p', 'log2', 'modf', 'nan', 'nextafter', 'perm', 'pi', 'pow', 'prod', 'radians', 'remainder', 'sin', 'sinh', 'sqrt', 'sumprod', 'tan', 'tanh', 'tau', 'trunc', 'ulp']\n"
     ]
    }
   ],
   "source": [
    "import math\n",
    "print(dir(math))"
   ]
  },
  {
   "cell_type": "code",
   "execution_count": 37,
   "id": "974606b2-75d7-471b-92e2-8c77908b7458",
   "metadata": {},
   "outputs": [
    {
     "data": {
      "text/plain": [
       "6"
      ]
     },
     "execution_count": 37,
     "metadata": {},
     "output_type": "execute_result"
    }
   ],
   "source": [
    "math.floor(6.9)"
   ]
  },
  {
   "cell_type": "code",
   "execution_count": 39,
   "id": "28bb54bf-40ce-4e6d-bfdc-0d2d79582c56",
   "metadata": {},
   "outputs": [
    {
     "data": {
      "text/plain": [
       "7"
      ]
     },
     "execution_count": 39,
     "metadata": {},
     "output_type": "execute_result"
    }
   ],
   "source": [
    "math.ceil(6.9)"
   ]
  },
  {
   "cell_type": "code",
   "execution_count": 41,
   "id": "c558e4f3-bdfa-49aa-a766-33aa0f82f7f5",
   "metadata": {},
   "outputs": [
    {
     "name": "stdout",
     "output_type": "stream",
     "text": [
      "['__all__', '__builtins__', '__cached__', '__doc__', '__file__', '__loader__', '__name__', '__package__', '__spec__', 'iskeyword', 'issoftkeyword', 'kwlist', 'softkwlist']\n"
     ]
    }
   ],
   "source": [
    "import keyword\n",
    "print(dir(keyword))"
   ]
  },
  {
   "cell_type": "code",
   "execution_count": 49,
   "id": "9c252fc3-5eca-4872-9e8e-2994d91cd090",
   "metadata": {},
   "outputs": [
    {
     "name": "stdout",
     "output_type": "stream",
     "text": [
      "you can cast a vote\n"
     ]
    }
   ],
   "source": [
    "# condition statements\n",
    "# if,else\n",
    "age=18\n",
    "if age>=18:\n",
    "    print(\"you can cast a vote\")\n",
    "else:\n",
    "    print(\"you can not cast a vote\")"
   ]
  },
  {
   "cell_type": "code",
   "execution_count": null,
   "id": "217c4b7e-ce97-48c7-b0d1-47f1e9e1a1a7",
   "metadata": {},
   "outputs": [],
   "source": [
    "user_name = input(\"enter your name:\")\n",
    "if len(user_name) >10:\n",
    "    print(\"username is too big\")\n",
    "else len(user_name) >"
   ]
  },
  {
   "cell_type": "code",
   "execution_count": 53,
   "id": "e02eb17a-061d-4fc3-aaab-0a823fc2ba7f",
   "metadata": {},
   "outputs": [
    {
     "name": "stdin",
     "output_type": "stream",
     "text": [
      "enter number1: 60\n",
      "enter number2: 50\n",
      "enter number3: 10\n"
     ]
    },
    {
     "name": "stdout",
     "output_type": "stream",
     "text": [
      "number1 is largest 60\n"
     ]
    }
   ],
   "source": [
    "number1 = int(input(\"enter number1:\"))\n",
    "number2 = int(input(\"enter number2:\"))\n",
    "number3 = int(input(\"enter number3:\"))\n",
    "if number1>number2 and number1>number3:\n",
    "    print(\"number1 is largest\",number1)\n",
    "elif number2>number3:\n",
    "    print(\"number2 is largest\",number2)\n",
    "else:\n",
    "    print(\"number3 is largest\",number3)\n"
   ]
  },
  {
   "cell_type": "code",
   "execution_count": null,
   "id": "b21e756a-7f7a-4058-8937-b87a4fb426ee",
   "metadata": {},
   "outputs": [],
   "source": [
    "number = int(input(\"enter your number\")\n",
    "if number>0\n",
    "        \n",
    "     \n",
    "            "
   ]
  }
 ],
 "metadata": {
  "kernelspec": {
   "display_name": "Python 3 (ipykernel)",
   "language": "python",
   "name": "python3"
  },
  "language_info": {
   "codemirror_mode": {
    "name": "ipython",
    "version": 3
   },
   "file_extension": ".py",
   "mimetype": "text/x-python",
   "name": "python",
   "nbconvert_exporter": "python",
   "pygments_lexer": "ipython3",
   "version": "3.12.4"
  }
 },
 "nbformat": 4,
 "nbformat_minor": 5
}
